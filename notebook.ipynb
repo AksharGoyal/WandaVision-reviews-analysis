{
 "cells": [
  {
   "cell_type": "markdown",
   "metadata": {},
   "source": [
    "# StackUp Bounty: Sentiment Analysis Project"
   ]
  },
  {
   "cell_type": "markdown",
   "metadata": {},
   "source": [
    "## Data Acquisition  \n",
    "\n",
    "(The below code is commented as web scraping reviews take 30-40 minutes).  \n",
    "\n",
    "Fot this project, we will be web scrapping reviews of a TV show (WandaVision) through Selenium.  \n",
    "\n",
    "We first initialize webdriver (Chrome here) and load the whole page to ensure we get all the reviews that would be hidden behind the Load More button. Everytime the webcrawler clicks on Load More, it takes more time to search for the button the next iteration so we also increase the time interval by 5 seconds to wait for while searching. We also give the code a 10 second break each loop to prevent early timeouts. The code for searching the Load More button to load more reviews and increasing time interval for searching is as follows:  \n",
    "```py\n",
    "try:\n",
    "    # Wait for the next \"Load More\" button to become clickable\n",
    "    load_more_button = WebDriverWait(driver, time_wait).until(\n",
    "        EC.element_to_be_clickable((By.CLASS_NAME, 'ipl-load-more__button'))\n",
    "    )\n",
    "    time_wait += 5\n",
    "    time.sleep(10)\n",
    "```\n",
    "After we have load the whole page, we extract features such as date of review, headlines, ratings or number of stars given and review through CSS selectors. In case of ratings, the whole review had to be extracted as there wasn't a specific class provided to the tag for user ratings. Then, the ratings were searched through regex.  \n"
   ]
  },
  {
   "cell_type": "code",
   "execution_count": 1,
   "metadata": {},
   "outputs": [
    {
     "name": "stdout",
     "output_type": "stream",
     "text": [
      "Timeout exception while waiting for the next 'Load More' button.\n",
      "Done loading the whole page\n",
      "Extracting dates the reviews were posted on...\n",
      "Extracting dates of the reviews completed.\n",
      "Extracting headlines of the reviews posted...\n",
      "Extracting headlines of reviews posted completed.\n",
      "Extracting the reviews...\n",
      "Extracting the reviews completed.\n",
      "Extracting ratings of the show...\n",
      "Extracting ratings of the show completed.\n",
      "Data collection is complete. About 2706 reviews extracted.\n"
     ]
    }
   ],
   "source": [
    "# from selenium import webdriver\n",
    "# from selenium.webdriver.common.by import By\n",
    "# from selenium.common.exceptions import ElementClickInterceptedException\n",
    "# from selenium.webdriver.support.ui import WebDriverWait\n",
    "# from selenium.webdriver.support import expected_conditions as EC\n",
    "# from selenium.common.exceptions import TimeoutException\n",
    "# import pandas as pd \n",
    "# import time\n",
    "# import re\n",
    "# # Specify the IMDb movie page URL\n",
    "# movie_url = 'https://www.imdb.com/title/tt9140560/reviews/'\n",
    "\n",
    "# # Create a new instance of the Chrome driver\n",
    "# driver = webdriver.Chrome()\n",
    "# driver.minimize_window()\n",
    "\n",
    "# try:\n",
    "#     # Open the IMDb movie page\n",
    "#     driver.get(movie_url)\n",
    "\n",
    "#     # Wait for the \"Load More\" button to become clickable\n",
    "#     load_more_button = WebDriverWait(driver, 10).until(\n",
    "#         EC.element_to_be_clickable((By.CLASS_NAME, 'ipl-load-more__button'))\n",
    "#     )\n",
    "#     time_wait = 10\n",
    "#     # Click the \"Load More\" button repeatedly until it's no longer visible\n",
    "#     while load_more_button.is_displayed():\n",
    "#         load_more_button.click()\n",
    "#         # print(f'{time_wait=}')\n",
    "#         try:\n",
    "#             # Wait for the next \"Load More\" button to become clickable\n",
    "#             load_more_button = WebDriverWait(driver, time_wait).until(\n",
    "#                 EC.element_to_be_clickable((By.CLASS_NAME, 'ipl-load-more__button'))\n",
    "#             )\n",
    "#             time_wait += 5\n",
    "#             time.sleep(10)\n",
    "#         except TimeoutException:\n",
    "#             # Handle timeout exception when waiting for the next \"Load More\" button\n",
    "#             print(\"Timeout exception while waiting for the next 'Load More' button.\")\n",
    "#             break\n",
    "#         except ElementClickInterceptedException:\n",
    "#             print(\"ElementClickIntercepted Exception while searching for 'Load More' button\")\n",
    "#             break\n",
    "        \n",
    "#     print('Done loading the whole page')\n",
    "#     # Extract and print all reviews\n",
    "#     print('Extracting dates the reviews were posted on...')\n",
    "#     dates = driver.find_elements(By.CLASS_NAME, 'review-date')\n",
    "#     dates_lst = [date.text.strip() for date in dates]\n",
    "#     time.sleep(5)\n",
    "#     print('Extracting dates of the reviews completed.')\n",
    "#     print('Extracting headlines of the reviews posted...')\n",
    "#     headlines = driver.find_elements(By.CLASS_NAME, 'title')\n",
    "#     headlines_lst = [headline.text for headline in headlines]\n",
    "#     time.sleep(5)\n",
    "#     print('Extracting headlines of reviews posted completed.')\n",
    "#     print('Extracting the reviews...')\n",
    "#     reviews = driver.find_elements(By.CLASS_NAME, 'text')\n",
    "#     reviews_lst = [review.text for review in reviews]\n",
    "#     time.sleep(5)\n",
    "#     print('Extracting the reviews completed.')\n",
    "#     print('Extracting ratings of the show...')\n",
    "#     full_reviews = driver.find_elements(By.CSS_SELECTOR, 'div.review-container')\n",
    "#     ratings = [re.match(r'^[0-9]+', review.text) for review in full_reviews]\n",
    "#     ratings_lst = [int(rating[0]) if rating else None for rating in ratings]\n",
    "#     time.sleep(5)\n",
    "#     print('Extracting ratings of the show completed.')\n",
    "    \n",
    "# except TimeoutException:\n",
    "#     # Handle timeout exception during initial page load\n",
    "#     print(\"Timeout exception during web scraping.\")\n",
    "# finally:\n",
    "#     # Close the browser window\n",
    "#     driver.quit()\n",
    "#     print(f'Data collection is complete. About {len(ratings_lst)} reviews extracted.')"
   ]
  },
  {
   "cell_type": "code",
   "execution_count": 2,
   "metadata": {},
   "outputs": [
    {
     "name": "stdout",
     "output_type": "stream",
     "text": [
      "Number of items in dates_lst is 2706\n",
      "Number of items in headlines_lst is 2707\n",
      "Number of items in reviews_lst is 2706\n",
      "Number of items in ratings_lst is 2706\n"
     ]
    }
   ],
   "source": [
    "def print_length(varname, lst):\n",
    "    print(f\"Number of items in {varname} is {len(lst)}\")\n",
    "try:    \n",
    "    print_length(\"dates_lst\", dates_lst)\n",
    "    print_length(\"headlines_lst\", headlines_lst)\n",
    "    print_length(\"reviews_lst\", reviews_lst)\n",
    "    print_length(\"ratings_lst\", ratings_lst)\n",
    "except:\n",
    "    print('Caught error! Printing out previously found original values:')\n",
    "    print(f\"Number of items in dates_lst is 2706\")\n",
    "    print(f\"Number of items in headlines_lst is 2707\")\n",
    "    print(f\"Number of items in reviews_lst is 2706\")\n",
    "    print(f\"Number of items in ratings_lst is 2706\")"
   ]
  },
  {
   "cell_type": "markdown",
   "metadata": {},
   "source": [
    "We observe that we have an extra headline so we will see if we need it or not."
   ]
  },
  {
   "cell_type": "code",
   "execution_count": 3,
   "metadata": {},
   "outputs": [
    {
     "name": "stdout",
     "output_type": "stream",
     "text": [
      "One of the values of headlines is  at 2706 position\n"
     ]
    }
   ],
   "source": [
    "try:\n",
    "    emptyspace_index = headlines_lst.index('')\n",
    "    print(f\"One of the values of headlines is {headlines_lst[emptyspace_index]} at {emptyspace_index} position\")\n",
    "except:\n",
    "    print(\"One of the values of headlines is ''\")"
   ]
  },
  {
   "cell_type": "markdown",
   "metadata": {},
   "source": [
    "This (empty headline) violates data integrity and as such we will remove it."
   ]
  },
  {
   "cell_type": "code",
   "execution_count": 4,
   "metadata": {},
   "outputs": [
    {
     "name": "stdout",
     "output_type": "stream",
     "text": [
      "Number of items in headlines_lst is 2706\n"
     ]
    }
   ],
   "source": [
    "try:\n",
    "    headlines_lst = headlines_lst[:emptyspace_index] + headlines_lst[emptyspace_index+1:]\n",
    "    print_length(\"headlines_lst\", headlines_lst)\n",
    "except:\n",
    "    print(\"headlines_lst now has 2706 values\")"
   ]
  },
  {
   "cell_type": "code",
   "execution_count": 5,
   "metadata": {},
   "outputs": [],
   "source": [
    "try:\n",
    "    df_raw = pd.DataFrame({'date':dates_lst, 'headline': headlines_lst, 'ratings': ratings_lst, 'reviews':reviews_lst})\n",
    "    df_raw.to_csv('IDMB_raw.csv', index=False)\n",
    "except:\n",
    "    print(\"Dataframe is already created. Moving to next section!\")"
   ]
  },
  {
   "cell_type": "markdown",
   "metadata": {},
   "source": [
    "__Note__: The process of data extraction takes 30-40 minutes hence the code is commented with output preserved and a CSV file (IDMB_raw) containing the extracted data is provided. We will be using it in the next section."
   ]
  },
  {
   "cell_type": "code",
   "execution_count": 1,
   "metadata": {},
   "outputs": [
    {
     "name": "stderr",
     "output_type": "stream",
     "text": [
      "File 'IDMB_raw.csv' already there; not retrieving.\n"
     ]
    }
   ],
   "source": [
    "!wget \"https://drive.google.com/uc?export=download&id=1naQ8XuccipI1W_hAQ-LfylHrUf-rdjDg\" -nc -O IDMB_raw.csv"
   ]
  },
  {
   "cell_type": "markdown",
   "metadata": {},
   "source": [
    "## Data Processing and Cleaning  \n",
    "\n",
    "We will be cleaning the data by taking care of null values as needed and processing text data as necessary for our sentiment analyzer to classify the sentiment."
   ]
  },
  {
   "cell_type": "code",
   "execution_count": 2,
   "metadata": {},
   "outputs": [
    {
     "data": {
      "text/html": [
       "<div>\n",
       "<style scoped>\n",
       "    .dataframe tbody tr th:only-of-type {\n",
       "        vertical-align: middle;\n",
       "    }\n",
       "\n",
       "    .dataframe tbody tr th {\n",
       "        vertical-align: top;\n",
       "    }\n",
       "\n",
       "    .dataframe thead th {\n",
       "        text-align: right;\n",
       "    }\n",
       "</style>\n",
       "<table border=\"1\" class=\"dataframe\">\n",
       "  <thead>\n",
       "    <tr style=\"text-align: right;\">\n",
       "      <th></th>\n",
       "      <th>date</th>\n",
       "      <th>headline</th>\n",
       "      <th>ratings</th>\n",
       "      <th>reviews</th>\n",
       "    </tr>\n",
       "  </thead>\n",
       "  <tbody>\n",
       "    <tr>\n",
       "      <th>0</th>\n",
       "      <td>30 September 2022</td>\n",
       "      <td>Terrific!!</td>\n",
       "      <td>9.0</td>\n",
       "      <td>WandaVision is the first of the Disney shows that take place in the MCU. I need to start off with my praise for Elizabeth Olsen and the job she does here. She's not only beautiful but she's such a...</td>\n",
       "    </tr>\n",
       "    <tr>\n",
       "      <th>1</th>\n",
       "      <td>31 January 2023</td>\n",
       "      <td>Elizabeth Olsen is amazing here!</td>\n",
       "      <td>9.0</td>\n",
       "      <td>I found WandaVision to be a pretty entertaining show that's a fantastic addition to Phase 4! It's so over the top bananas but it works in a weirdly entertaining way! Once you start watching it you...</td>\n",
       "    </tr>\n",
       "    <tr>\n",
       "      <th>2</th>\n",
       "      <td>29 January 2021</td>\n",
       "      <td>Ignore every negative review before episode 4</td>\n",
       "      <td>10.0</td>\n",
       "      <td>It might have been an error on Disney's part to release only the first 2 episodes at once instead of 4 episodes. While I am on of the few people who absolutely loved the intrigue and mystery of th...</td>\n",
       "    </tr>\n",
       "    <tr>\n",
       "      <th>3</th>\n",
       "      <td>18 October 2022</td>\n",
       "      <td>An unexpected experience</td>\n",
       "      <td>7.0</td>\n",
       "      <td>First of, I'm not a Marvel fan, not into comics and superheroes at all, so please read this review as what it is: an outsider's point of view. I watched this show, because I saw the trailer and th...</td>\n",
       "    </tr>\n",
       "    <tr>\n",
       "      <th>4</th>\n",
       "      <td>13 March 2021</td>\n",
       "      <td>all the missing emotions</td>\n",
       "      <td>8.0</td>\n",
       "      <td>Avengers, Wanda Maximoff (Elizabeth Olsen) and Vision (Paul Bettany), are somehow starring in variations of old TV sitcoms.\\n\\nThis delivers all the missing emotional content in this Avengers cine...</td>\n",
       "    </tr>\n",
       "    <tr>\n",
       "      <th>5</th>\n",
       "      <td>6 February 2021</td>\n",
       "      <td>Wandavision is kewl.</td>\n",
       "      <td>8.0</td>\n",
       "      <td>Show is developing nicely and although the build up is slow, by episode 5 the story progresses more and gets interesting. World building seems good, characters are solid and there's an eerie vibe ...</td>\n",
       "    </tr>\n",
       "    <tr>\n",
       "      <th>6</th>\n",
       "      <td>4 February 2021</td>\n",
       "      <td>Gets better with every episode</td>\n",
       "      <td>10.0</td>\n",
       "      <td>NaN</td>\n",
       "    </tr>\n",
       "    <tr>\n",
       "      <th>7</th>\n",
       "      <td>10 March 2021</td>\n",
       "      <td>Not as bad as some say, not as good as some others say</td>\n",
       "      <td>7.0</td>\n",
       "      <td>NaN</td>\n",
       "    </tr>\n",
       "    <tr>\n",
       "      <th>8</th>\n",
       "      <td>26 February 2023</td>\n",
       "      <td>Refreshingly Creative</td>\n",
       "      <td>8.0</td>\n",
       "      <td>A refreshing and creative television series. This series with its first two episodes almost sluggishly slow only to later pick up speed breaking new \"immersive\" ground in the superhero genre. Some...</td>\n",
       "    </tr>\n",
       "    <tr>\n",
       "      <th>9</th>\n",
       "      <td>5 March 2021</td>\n",
       "      <td>Have a comic book geek on hand to help you fill in the blanks if you are a person like me.</td>\n",
       "      <td>8.0</td>\n",
       "      <td>NaN</td>\n",
       "    </tr>\n",
       "  </tbody>\n",
       "</table>\n",
       "</div>"
      ],
      "text/plain": [
       "                date  \\\n",
       "0  30 September 2022   \n",
       "1    31 January 2023   \n",
       "2    29 January 2021   \n",
       "3    18 October 2022   \n",
       "4      13 March 2021   \n",
       "5    6 February 2021   \n",
       "6    4 February 2021   \n",
       "7      10 March 2021   \n",
       "8   26 February 2023   \n",
       "9       5 March 2021   \n",
       "\n",
       "                                                                                     headline  \\\n",
       "0                                                                                  Terrific!!   \n",
       "1                                                            Elizabeth Olsen is amazing here!   \n",
       "2                                               Ignore every negative review before episode 4   \n",
       "3                                                                    An unexpected experience   \n",
       "4                                                                    all the missing emotions   \n",
       "5                                                                        Wandavision is kewl.   \n",
       "6                                                              Gets better with every episode   \n",
       "7                                      Not as bad as some say, not as good as some others say   \n",
       "8                                                                       Refreshingly Creative   \n",
       "9  Have a comic book geek on hand to help you fill in the blanks if you are a person like me.   \n",
       "\n",
       "   ratings  \\\n",
       "0      9.0   \n",
       "1      9.0   \n",
       "2     10.0   \n",
       "3      7.0   \n",
       "4      8.0   \n",
       "5      8.0   \n",
       "6     10.0   \n",
       "7      7.0   \n",
       "8      8.0   \n",
       "9      8.0   \n",
       "\n",
       "                                                                                                                                                                                                   reviews  \n",
       "0  WandaVision is the first of the Disney shows that take place in the MCU. I need to start off with my praise for Elizabeth Olsen and the job she does here. She's not only beautiful but she's such a...  \n",
       "1  I found WandaVision to be a pretty entertaining show that's a fantastic addition to Phase 4! It's so over the top bananas but it works in a weirdly entertaining way! Once you start watching it you...  \n",
       "2  It might have been an error on Disney's part to release only the first 2 episodes at once instead of 4 episodes. While I am on of the few people who absolutely loved the intrigue and mystery of th...  \n",
       "3  First of, I'm not a Marvel fan, not into comics and superheroes at all, so please read this review as what it is: an outsider's point of view. I watched this show, because I saw the trailer and th...  \n",
       "4  Avengers, Wanda Maximoff (Elizabeth Olsen) and Vision (Paul Bettany), are somehow starring in variations of old TV sitcoms.\\n\\nThis delivers all the missing emotional content in this Avengers cine...  \n",
       "5  Show is developing nicely and although the build up is slow, by episode 5 the story progresses more and gets interesting. World building seems good, characters are solid and there's an eerie vibe ...  \n",
       "6                                                                                                                                                                                                      NaN  \n",
       "7                                                                                                                                                                                                      NaN  \n",
       "8  A refreshing and creative television series. This series with its first two episodes almost sluggishly slow only to later pick up speed breaking new \"immersive\" ground in the superhero genre. Some...  \n",
       "9                                                                                                                                                                                                      NaN  "
      ]
     },
     "execution_count": 2,
     "metadata": {},
     "output_type": "execute_result"
    }
   ],
   "source": [
    "import pandas as pd\n",
    "import warnings\n",
    "warnings.filterwarnings('ignore')\n",
    "pd.set_option('max_colwidth', 200)\n",
    "\n",
    "IDMB_raw = pd.read_csv('IDMB_raw.csv')\n",
    "IDMB_raw.head(10)"
   ]
  },
  {
   "cell_type": "code",
   "execution_count": 3,
   "metadata": {},
   "outputs": [
    {
     "data": {
      "text/plain": [
       "ratings\n",
       "10.0    0.296\n",
       "1.0     0.142\n",
       "9.0     0.136\n",
       "8.0     0.121\n",
       "7.0     0.075\n",
       "6.0     0.053\n",
       "5.0     0.047\n",
       "3.0     0.037\n",
       "2.0     0.036\n",
       "4.0     0.031\n",
       "NaN     0.026\n",
       "Name: proportion, dtype: float64"
      ]
     },
     "execution_count": 3,
     "metadata": {},
     "output_type": "execute_result"
    }
   ],
   "source": [
    "IDMB_raw['ratings'].value_counts(True, dropna=False).round(3)"
   ]
  },
  {
   "cell_type": "markdown",
   "metadata": {},
   "source": [
    "Considering 70 out of 2705 value is null, i.e., 2.6% of ratings are missing, we can consider dropping those rows."
   ]
  },
  {
   "cell_type": "code",
   "execution_count": 4,
   "metadata": {},
   "outputs": [
    {
     "data": {
      "text/html": [
       "<div>\n",
       "<style scoped>\n",
       "    .dataframe tbody tr th:only-of-type {\n",
       "        vertical-align: middle;\n",
       "    }\n",
       "\n",
       "    .dataframe tbody tr th {\n",
       "        vertical-align: top;\n",
       "    }\n",
       "\n",
       "    .dataframe thead th {\n",
       "        text-align: right;\n",
       "    }\n",
       "</style>\n",
       "<table border=\"1\" class=\"dataframe\">\n",
       "  <thead>\n",
       "    <tr style=\"text-align: right;\">\n",
       "      <th></th>\n",
       "      <th>date</th>\n",
       "      <th>headline</th>\n",
       "      <th>ratings</th>\n",
       "      <th>reviews</th>\n",
       "    </tr>\n",
       "  </thead>\n",
       "  <tbody>\n",
       "    <tr>\n",
       "      <th>0</th>\n",
       "      <td>30 September 2022</td>\n",
       "      <td>Terrific!!</td>\n",
       "      <td>9</td>\n",
       "      <td>WandaVision is the first of the Disney shows that take place in the MCU. I need to start off with my praise for Elizabeth Olsen and the job she does here. She's not only beautiful but she's such a...</td>\n",
       "    </tr>\n",
       "    <tr>\n",
       "      <th>1</th>\n",
       "      <td>31 January 2023</td>\n",
       "      <td>Elizabeth Olsen is amazing here!</td>\n",
       "      <td>9</td>\n",
       "      <td>I found WandaVision to be a pretty entertaining show that's a fantastic addition to Phase 4! It's so over the top bananas but it works in a weirdly entertaining way! Once you start watching it you...</td>\n",
       "    </tr>\n",
       "    <tr>\n",
       "      <th>2</th>\n",
       "      <td>29 January 2021</td>\n",
       "      <td>Ignore every negative review before episode 4</td>\n",
       "      <td>10</td>\n",
       "      <td>It might have been an error on Disney's part to release only the first 2 episodes at once instead of 4 episodes. While I am on of the few people who absolutely loved the intrigue and mystery of th...</td>\n",
       "    </tr>\n",
       "    <tr>\n",
       "      <th>3</th>\n",
       "      <td>18 October 2022</td>\n",
       "      <td>An unexpected experience</td>\n",
       "      <td>7</td>\n",
       "      <td>First of, I'm not a Marvel fan, not into comics and superheroes at all, so please read this review as what it is: an outsider's point of view. I watched this show, because I saw the trailer and th...</td>\n",
       "    </tr>\n",
       "    <tr>\n",
       "      <th>4</th>\n",
       "      <td>13 March 2021</td>\n",
       "      <td>all the missing emotions</td>\n",
       "      <td>8</td>\n",
       "      <td>Avengers, Wanda Maximoff (Elizabeth Olsen) and Vision (Paul Bettany), are somehow starring in variations of old TV sitcoms.\\n\\nThis delivers all the missing emotional content in this Avengers cine...</td>\n",
       "    </tr>\n",
       "    <tr>\n",
       "      <th>5</th>\n",
       "      <td>6 February 2021</td>\n",
       "      <td>Wandavision is kewl.</td>\n",
       "      <td>8</td>\n",
       "      <td>Show is developing nicely and although the build up is slow, by episode 5 the story progresses more and gets interesting. World building seems good, characters are solid and there's an eerie vibe ...</td>\n",
       "    </tr>\n",
       "    <tr>\n",
       "      <th>6</th>\n",
       "      <td>4 February 2021</td>\n",
       "      <td>Gets better with every episode</td>\n",
       "      <td>10</td>\n",
       "      <td>NaN</td>\n",
       "    </tr>\n",
       "    <tr>\n",
       "      <th>7</th>\n",
       "      <td>10 March 2021</td>\n",
       "      <td>Not as bad as some say, not as good as some others say</td>\n",
       "      <td>7</td>\n",
       "      <td>NaN</td>\n",
       "    </tr>\n",
       "    <tr>\n",
       "      <th>8</th>\n",
       "      <td>26 February 2023</td>\n",
       "      <td>Refreshingly Creative</td>\n",
       "      <td>8</td>\n",
       "      <td>A refreshing and creative television series. This series with its first two episodes almost sluggishly slow only to later pick up speed breaking new \"immersive\" ground in the superhero genre. Some...</td>\n",
       "    </tr>\n",
       "    <tr>\n",
       "      <th>9</th>\n",
       "      <td>5 March 2021</td>\n",
       "      <td>Have a comic book geek on hand to help you fill in the blanks if you are a person like me.</td>\n",
       "      <td>8</td>\n",
       "      <td>NaN</td>\n",
       "    </tr>\n",
       "  </tbody>\n",
       "</table>\n",
       "</div>"
      ],
      "text/plain": [
       "                date  \\\n",
       "0  30 September 2022   \n",
       "1    31 January 2023   \n",
       "2    29 January 2021   \n",
       "3    18 October 2022   \n",
       "4      13 March 2021   \n",
       "5    6 February 2021   \n",
       "6    4 February 2021   \n",
       "7      10 March 2021   \n",
       "8   26 February 2023   \n",
       "9       5 March 2021   \n",
       "\n",
       "                                                                                     headline  \\\n",
       "0                                                                                  Terrific!!   \n",
       "1                                                            Elizabeth Olsen is amazing here!   \n",
       "2                                               Ignore every negative review before episode 4   \n",
       "3                                                                    An unexpected experience   \n",
       "4                                                                    all the missing emotions   \n",
       "5                                                                        Wandavision is kewl.   \n",
       "6                                                              Gets better with every episode   \n",
       "7                                      Not as bad as some say, not as good as some others say   \n",
       "8                                                                       Refreshingly Creative   \n",
       "9  Have a comic book geek on hand to help you fill in the blanks if you are a person like me.   \n",
       "\n",
       "   ratings  \\\n",
       "0        9   \n",
       "1        9   \n",
       "2       10   \n",
       "3        7   \n",
       "4        8   \n",
       "5        8   \n",
       "6       10   \n",
       "7        7   \n",
       "8        8   \n",
       "9        8   \n",
       "\n",
       "                                                                                                                                                                                                   reviews  \n",
       "0  WandaVision is the first of the Disney shows that take place in the MCU. I need to start off with my praise for Elizabeth Olsen and the job she does here. She's not only beautiful but she's such a...  \n",
       "1  I found WandaVision to be a pretty entertaining show that's a fantastic addition to Phase 4! It's so over the top bananas but it works in a weirdly entertaining way! Once you start watching it you...  \n",
       "2  It might have been an error on Disney's part to release only the first 2 episodes at once instead of 4 episodes. While I am on of the few people who absolutely loved the intrigue and mystery of th...  \n",
       "3  First of, I'm not a Marvel fan, not into comics and superheroes at all, so please read this review as what it is: an outsider's point of view. I watched this show, because I saw the trailer and th...  \n",
       "4  Avengers, Wanda Maximoff (Elizabeth Olsen) and Vision (Paul Bettany), are somehow starring in variations of old TV sitcoms.\\n\\nThis delivers all the missing emotional content in this Avengers cine...  \n",
       "5  Show is developing nicely and although the build up is slow, by episode 5 the story progresses more and gets interesting. World building seems good, characters are solid and there's an eerie vibe ...  \n",
       "6                                                                                                                                                                                                      NaN  \n",
       "7                                                                                                                                                                                                      NaN  \n",
       "8  A refreshing and creative television series. This series with its first two episodes almost sluggishly slow only to later pick up speed breaking new \"immersive\" ground in the superhero genre. Some...  \n",
       "9                                                                                                                                                                                                      NaN  "
      ]
     },
     "execution_count": 4,
     "metadata": {},
     "output_type": "execute_result"
    }
   ],
   "source": [
    "IDMB_filtered = IDMB_raw.loc[~IDMB_raw['ratings'].isnull()]\n",
    "IDMB_filtered.ratings = IDMB_filtered.ratings.astype('int')\n",
    "IDMB_filtered.reset_index(drop=True, inplace=True)\n",
    "IDMB_filtered.head(10)"
   ]
  },
  {
   "cell_type": "code",
   "execution_count": 5,
   "metadata": {},
   "outputs": [
    {
     "data": {
      "text/plain": [
       "ratings\n",
       "10    801\n",
       "1     385\n",
       "9     368\n",
       "8     327\n",
       "7     202\n",
       "6     143\n",
       "5     128\n",
       "3     101\n",
       "2      98\n",
       "4      83\n",
       "Name: count, dtype: int64"
      ]
     },
     "execution_count": 5,
     "metadata": {},
     "output_type": "execute_result"
    }
   ],
   "source": [
    "IDMB_filtered['ratings'].value_counts(dropna=False)"
   ]
  },
  {
   "cell_type": "code",
   "execution_count": 6,
   "metadata": {},
   "outputs": [
    {
     "data": {
      "text/plain": [
       "397"
      ]
     },
     "execution_count": 6,
     "metadata": {},
     "output_type": "execute_result"
    }
   ],
   "source": [
    "IDMB_filtered.reviews.isnull().sum()"
   ]
  },
  {
   "cell_type": "code",
   "execution_count": 7,
   "metadata": {},
   "outputs": [
    {
     "data": {
      "text/plain": [
       "2626                                                                 The first 2 episodes are just a boring 50s \"comedy\" with a laugh track. At this point all we can do is hope something better to come soon.\n",
       "2627    Decent show. I enjoyed the acting and the time jumping. I grew up watching Nick at Nite so it was nice to see some of the parodies of older classic shows. And they are done well.\\n\\nOverall the sh...\n",
       "2628    I watched the whole thing before commenting on here.\\n\\nI don't get it. Maybe because I've never watched a marvel movie, maybe because I don't care for magic and fantasy.\\n\\nI would have, however,...\n",
       "2629                                                                                                                                                                                                        NaN\n",
       "2630    I often heard positive reviews about the series, they recommended it without sparing words. So, he came himself - turned on.\\n\\nAnd that's it, an old-style movie that I couldn't watch. I tried to ...\n",
       "2631    So, WandaVision is as funny as it could be and that's completely different from what we've seen in Marvel till date. Except for this shocking element there's nothing to hype it and no matter how m...\n",
       "2632    \"First\" attempt to put the MCU heroes in the TV format. It's not too shabby but it way felt way more like a chopped film than a TV series, the 7-minute credits don't help with that.\\n\\nThe interac...\n",
       "2633    Definitely think this should have been released all together in 1 season. The first episode was losing me and I started fast forwarding to better parts of the show. I did the same thing in the 2nd...\n",
       "2634                                        It was so interesting and fresh up until the middle of the season, then it went into the usual Marvel route that we've all seen before and lost a lot of its charm.\n",
       "2635    Concept is good, but execution is poor, it's an over rated show.\\n\\nDisney made this show coz just the concept seems too good. Story line is too slow and boring. Only after episode 4 story moves a...\n",
       "Name: reviews, dtype: object"
      ]
     },
     "execution_count": 7,
     "metadata": {},
     "output_type": "execute_result"
    }
   ],
   "source": [
    "IDMB_filtered.reviews.tail(10)"
   ]
  },
  {
   "cell_type": "markdown",
   "metadata": {},
   "source": [
    "We observe some newline characters as well as null values and will remove them to make them cleaner."
   ]
  },
  {
   "cell_type": "code",
   "execution_count": 8,
   "metadata": {},
   "outputs": [
    {
     "data": {
      "text/html": [
       "<div>\n",
       "<style scoped>\n",
       "    .dataframe tbody tr th:only-of-type {\n",
       "        vertical-align: middle;\n",
       "    }\n",
       "\n",
       "    .dataframe tbody tr th {\n",
       "        vertical-align: top;\n",
       "    }\n",
       "\n",
       "    .dataframe thead th {\n",
       "        text-align: right;\n",
       "    }\n",
       "</style>\n",
       "<table border=\"1\" class=\"dataframe\">\n",
       "  <thead>\n",
       "    <tr style=\"text-align: right;\">\n",
       "      <th></th>\n",
       "      <th>date</th>\n",
       "      <th>headline</th>\n",
       "      <th>ratings</th>\n",
       "      <th>reviews</th>\n",
       "    </tr>\n",
       "  </thead>\n",
       "  <tbody>\n",
       "    <tr>\n",
       "      <th>2626</th>\n",
       "      <td>15 January 2021</td>\n",
       "      <td>desparate shilling is the unfortunate result of the popularity of this franchise</td>\n",
       "      <td>7</td>\n",
       "      <td>The first 2 episodes are just a boring 50s \"comedy\" with a laugh track. At this point all we can do is hope something better to come soon.</td>\n",
       "    </tr>\n",
       "    <tr>\n",
       "      <th>2627</th>\n",
       "      <td>27 March 2021</td>\n",
       "      <td>Decently enjoyable but missed potential</td>\n",
       "      <td>5</td>\n",
       "      <td>Decent show. I enjoyed the acting and the time jumping. I grew up watching Nick at Nite so it was nice to see some of the parodies of older classic shows. And they are done well.Overall the show b...</td>\n",
       "    </tr>\n",
       "    <tr>\n",
       "      <th>2628</th>\n",
       "      <td>25 May 2022</td>\n",
       "      <td>What?</td>\n",
       "      <td>4</td>\n",
       "      <td>I watched the whole thing before commenting on here.I dont get it. Maybe because Ive never watched a marvel movie, maybe because I dont care for magic and fantasy.I would have, however, appreciate...</td>\n",
       "    </tr>\n",
       "    <tr>\n",
       "      <th>2629</th>\n",
       "      <td>21 December 2021</td>\n",
       "      <td>Decent with Anticlimactic Ending</td>\n",
       "      <td>5</td>\n",
       "      <td>It was an alright show. Could have been better but needs more story.</td>\n",
       "    </tr>\n",
       "    <tr>\n",
       "      <th>2630</th>\n",
       "      <td>19 January 2022</td>\n",
       "      <td>The movie is not for everyone.</td>\n",
       "      <td>6</td>\n",
       "      <td>I often heard positive reviews about the series, they recommended it without sparing words. So, he came himself - turned on.And thats it, an old-style movie that I couldnt watch. I tried to watch ...</td>\n",
       "    </tr>\n",
       "    <tr>\n",
       "      <th>2631</th>\n",
       "      <td>19 January 2022</td>\n",
       "      <td>My opinion</td>\n",
       "      <td>3</td>\n",
       "      <td>So, WandaVision is as funny as it could be and thats completely different from what weve seen in Marvel till date. Except for this shocking element theres nothing to hype it and no matter how much...</td>\n",
       "    </tr>\n",
       "    <tr>\n",
       "      <th>2632</th>\n",
       "      <td>27 June 2022</td>\n",
       "      <td>It's not bad, definitely could've been better.</td>\n",
       "      <td>6</td>\n",
       "      <td>\"First\" attempt to put the MCU heroes in the TV format. Its not too shabby but it way felt way more like a chopped film than a TV series, the 7-minute credits dont help with that.The interaction b...</td>\n",
       "    </tr>\n",
       "    <tr>\n",
       "      <th>2633</th>\n",
       "      <td>17 January 2021</td>\n",
       "      <td>Ok</td>\n",
       "      <td>6</td>\n",
       "      <td>Definitely think this should have been released all together in 1 season. The first episode was losing me and I started fast forwarding to better parts of the show. I did the same thing in the 2nd...</td>\n",
       "    </tr>\n",
       "    <tr>\n",
       "      <th>2634</th>\n",
       "      <td>1 July 2022</td>\n",
       "      <td>Interesting and fresh for half a season</td>\n",
       "      <td>6</td>\n",
       "      <td>It was so interesting and fresh up until the middle of the season, then it went into the usual Marvel route that weve all seen before and lost a lot of its charm.</td>\n",
       "    </tr>\n",
       "    <tr>\n",
       "      <th>2635</th>\n",
       "      <td>22 May 2022</td>\n",
       "      <td>Overrated show</td>\n",
       "      <td>4</td>\n",
       "      <td>Concept is good, but execution is poor, its an over rated show.Disney made this show coz just the concept seems too good. Story line is too slow and boring. Only after episode 4 story moves a bit ...</td>\n",
       "    </tr>\n",
       "  </tbody>\n",
       "</table>\n",
       "</div>"
      ],
      "text/plain": [
       "                  date  \\\n",
       "2626   15 January 2021   \n",
       "2627     27 March 2021   \n",
       "2628       25 May 2022   \n",
       "2629  21 December 2021   \n",
       "2630   19 January 2022   \n",
       "2631   19 January 2022   \n",
       "2632      27 June 2022   \n",
       "2633   17 January 2021   \n",
       "2634       1 July 2022   \n",
       "2635       22 May 2022   \n",
       "\n",
       "                                                                              headline  \\\n",
       "2626  desparate shilling is the unfortunate result of the popularity of this franchise   \n",
       "2627                                           Decently enjoyable but missed potential   \n",
       "2628                                                                             What?   \n",
       "2629                                                  Decent with Anticlimactic Ending   \n",
       "2630                                                    The movie is not for everyone.   \n",
       "2631                                                                        My opinion   \n",
       "2632                                    It's not bad, definitely could've been better.   \n",
       "2633                                                                                Ok   \n",
       "2634                                           Interesting and fresh for half a season   \n",
       "2635                                                                    Overrated show   \n",
       "\n",
       "      ratings  \\\n",
       "2626        7   \n",
       "2627        5   \n",
       "2628        4   \n",
       "2629        5   \n",
       "2630        6   \n",
       "2631        3   \n",
       "2632        6   \n",
       "2633        6   \n",
       "2634        6   \n",
       "2635        4   \n",
       "\n",
       "                                                                                                                                                                                                      reviews  \n",
       "2626                                                               The first 2 episodes are just a boring 50s \"comedy\" with a laugh track. At this point all we can do is hope something better to come soon.  \n",
       "2627  Decent show. I enjoyed the acting and the time jumping. I grew up watching Nick at Nite so it was nice to see some of the parodies of older classic shows. And they are done well.Overall the show b...  \n",
       "2628  I watched the whole thing before commenting on here.I dont get it. Maybe because Ive never watched a marvel movie, maybe because I dont care for magic and fantasy.I would have, however, appreciate...  \n",
       "2629                                                                                                                                     It was an alright show. Could have been better but needs more story.  \n",
       "2630  I often heard positive reviews about the series, they recommended it without sparing words. So, he came himself - turned on.And thats it, an old-style movie that I couldnt watch. I tried to watch ...  \n",
       "2631  So, WandaVision is as funny as it could be and thats completely different from what weve seen in Marvel till date. Except for this shocking element theres nothing to hype it and no matter how much...  \n",
       "2632  \"First\" attempt to put the MCU heroes in the TV format. Its not too shabby but it way felt way more like a chopped film than a TV series, the 7-minute credits dont help with that.The interaction b...  \n",
       "2633  Definitely think this should have been released all together in 1 season. The first episode was losing me and I started fast forwarding to better parts of the show. I did the same thing in the 2nd...  \n",
       "2634                                       It was so interesting and fresh up until the middle of the season, then it went into the usual Marvel route that weve all seen before and lost a lot of its charm.  \n",
       "2635  Concept is good, but execution is poor, its an over rated show.Disney made this show coz just the concept seems too good. Story line is too slow and boring. Only after episode 4 story moves a bit ...  "
      ]
     },
     "execution_count": 8,
     "metadata": {},
     "output_type": "execute_result"
    }
   ],
   "source": [
    "def giving_reviews(rating: float) -> str:\n",
    "    # return ''\n",
    "    if 8 <= rating <= 10:\n",
    "        return \"It was a fantastic show! Every actor did an excellent job. I am happy to be the biggest fan of MCU!\"\n",
    "    elif 5 <= rating <= 7:\n",
    "        return \"It was an alright show. Could have been better but needs more story.\"\n",
    "    else:\n",
    "        return \"Worst show ever! Needs more development. I am very disappointed.\"\n",
    "\n",
    "IDMB_filtered.reviews.loc[IDMB_filtered.reviews.isnull()] = IDMB_filtered.ratings.apply(giving_reviews)\n",
    "IDMB_filtered.reviews = IDMB_filtered.reviews.str.replace('\\n', '').str.replace(\"\\'\", '')\n",
    "IDMB_filtered.tail(10)"
   ]
  },
  {
   "cell_type": "markdown",
   "metadata": {},
   "source": [
    "Looks much better! The replacements should give a similar idea as per the ratings."
   ]
  },
  {
   "cell_type": "markdown",
   "metadata": {},
   "source": [
    "Let's look at the dates now. They are in string format so we will try converting them into date like objects."
   ]
  },
  {
   "cell_type": "code",
   "execution_count": 9,
   "metadata": {},
   "outputs": [
    {
     "data": {
      "text/html": [
       "<div>\n",
       "<style scoped>\n",
       "    .dataframe tbody tr th:only-of-type {\n",
       "        vertical-align: middle;\n",
       "    }\n",
       "\n",
       "    .dataframe tbody tr th {\n",
       "        vertical-align: top;\n",
       "    }\n",
       "\n",
       "    .dataframe thead th {\n",
       "        text-align: right;\n",
       "    }\n",
       "</style>\n",
       "<table border=\"1\" class=\"dataframe\">\n",
       "  <thead>\n",
       "    <tr style=\"text-align: right;\">\n",
       "      <th></th>\n",
       "      <th>date</th>\n",
       "      <th>headline</th>\n",
       "      <th>ratings</th>\n",
       "      <th>reviews</th>\n",
       "    </tr>\n",
       "  </thead>\n",
       "  <tbody>\n",
       "    <tr>\n",
       "      <th>0</th>\n",
       "      <td>2022-09-30</td>\n",
       "      <td>Terrific!!</td>\n",
       "      <td>9</td>\n",
       "      <td>WandaVision is the first of the Disney shows that take place in the MCU. I need to start off with my praise for Elizabeth Olsen and the job she does here. Shes not only beautiful but shes such an ...</td>\n",
       "    </tr>\n",
       "    <tr>\n",
       "      <th>1</th>\n",
       "      <td>2023-01-31</td>\n",
       "      <td>Elizabeth Olsen is amazing here!</td>\n",
       "      <td>9</td>\n",
       "      <td>I found WandaVision to be a pretty entertaining show thats a fantastic addition to Phase 4! Its so over the top bananas but it works in a weirdly entertaining way! Once you start watching it youll...</td>\n",
       "    </tr>\n",
       "    <tr>\n",
       "      <th>2</th>\n",
       "      <td>2021-01-29</td>\n",
       "      <td>Ignore every negative review before episode 4</td>\n",
       "      <td>10</td>\n",
       "      <td>It might have been an error on Disneys part to release only the first 2 episodes at once instead of 4 episodes. While I am on of the few people who absolutely loved the intrigue and mystery of the...</td>\n",
       "    </tr>\n",
       "    <tr>\n",
       "      <th>3</th>\n",
       "      <td>2022-10-18</td>\n",
       "      <td>An unexpected experience</td>\n",
       "      <td>7</td>\n",
       "      <td>First of, Im not a Marvel fan, not into comics and superheroes at all, so please read this review as what it is: an outsiders point of view. I watched this show, because I saw the trailer and the ...</td>\n",
       "    </tr>\n",
       "    <tr>\n",
       "      <th>4</th>\n",
       "      <td>2021-03-13</td>\n",
       "      <td>all the missing emotions</td>\n",
       "      <td>8</td>\n",
       "      <td>Avengers, Wanda Maximoff (Elizabeth Olsen) and Vision (Paul Bettany), are somehow starring in variations of old TV sitcoms.This delivers all the missing emotional content in this Avengers cinemati...</td>\n",
       "    </tr>\n",
       "  </tbody>\n",
       "</table>\n",
       "</div>"
      ],
      "text/plain": [
       "         date                                       headline  ratings  \\\n",
       "0  2022-09-30                                     Terrific!!        9   \n",
       "1  2023-01-31               Elizabeth Olsen is amazing here!        9   \n",
       "2  2021-01-29  Ignore every negative review before episode 4       10   \n",
       "3  2022-10-18                       An unexpected experience        7   \n",
       "4  2021-03-13                       all the missing emotions        8   \n",
       "\n",
       "                                                                                                                                                                                                   reviews  \n",
       "0  WandaVision is the first of the Disney shows that take place in the MCU. I need to start off with my praise for Elizabeth Olsen and the job she does here. Shes not only beautiful but shes such an ...  \n",
       "1  I found WandaVision to be a pretty entertaining show thats a fantastic addition to Phase 4! Its so over the top bananas but it works in a weirdly entertaining way! Once you start watching it youll...  \n",
       "2  It might have been an error on Disneys part to release only the first 2 episodes at once instead of 4 episodes. While I am on of the few people who absolutely loved the intrigue and mystery of the...  \n",
       "3  First of, Im not a Marvel fan, not into comics and superheroes at all, so please read this review as what it is: an outsiders point of view. I watched this show, because I saw the trailer and the ...  \n",
       "4  Avengers, Wanda Maximoff (Elizabeth Olsen) and Vision (Paul Bettany), are somehow starring in variations of old TV sitcoms.This delivers all the missing emotional content in this Avengers cinemati...  "
      ]
     },
     "execution_count": 9,
     "metadata": {},
     "output_type": "execute_result"
    }
   ],
   "source": [
    "from datetime import datetime, date\n",
    "\n",
    "IDMB_filtered.date = pd.to_datetime(IDMB_filtered.date, format='%d %B %Y').dt.date\n",
    "IDMB_filtered.head()"
   ]
  },
  {
   "cell_type": "code",
   "execution_count": 10,
   "metadata": {},
   "outputs": [
    {
     "name": "stdout",
     "output_type": "stream",
     "text": [
      "<class 'pandas.core.frame.DataFrame'>\n",
      "RangeIndex: 2636 entries, 0 to 2635\n",
      "Data columns (total 4 columns):\n",
      " #   Column    Non-Null Count  Dtype \n",
      "---  ------    --------------  ----- \n",
      " 0   date      2636 non-null   object\n",
      " 1   headline  2636 non-null   object\n",
      " 2   ratings   2636 non-null   int32 \n",
      " 3   reviews   2636 non-null   object\n",
      "dtypes: int32(1), object(3)\n",
      "memory usage: 72.2+ KB\n"
     ]
    }
   ],
   "source": [
    "IDMB_filtered.info()"
   ]
  },
  {
   "cell_type": "markdown",
   "metadata": {},
   "source": [
    "This looks better.  "
   ]
  },
  {
   "cell_type": "code",
   "execution_count": 11,
   "metadata": {},
   "outputs": [
    {
     "data": {
      "text/html": [
       "<div>\n",
       "<style scoped>\n",
       "    .dataframe tbody tr th:only-of-type {\n",
       "        vertical-align: middle;\n",
       "    }\n",
       "\n",
       "    .dataframe tbody tr th {\n",
       "        vertical-align: top;\n",
       "    }\n",
       "\n",
       "    .dataframe thead th {\n",
       "        text-align: right;\n",
       "    }\n",
       "</style>\n",
       "<table border=\"1\" class=\"dataframe\">\n",
       "  <thead>\n",
       "    <tr style=\"text-align: right;\">\n",
       "      <th></th>\n",
       "      <th>date</th>\n",
       "      <th>headline</th>\n",
       "      <th>ratings</th>\n",
       "      <th>reviews</th>\n",
       "    </tr>\n",
       "  </thead>\n",
       "  <tbody>\n",
       "    <tr>\n",
       "      <th>116</th>\n",
       "      <td>2022-12-28</td>\n",
       "      <td>Scarlet witch rules 🎊</td>\n",
       "      <td>10</td>\n",
       "      <td>Oh my god this is like the best marvel series ever Sooo good to watch wands emotions take control of your mind and then even without knowing anything you will be developing a sympathy towards her....</td>\n",
       "    </tr>\n",
       "    <tr>\n",
       "      <th>153</th>\n",
       "      <td>2021-02-16</td>\n",
       "      <td>Marvel on fire 🔥</td>\n",
       "      <td>10</td>\n",
       "      <td>For anyone giving this show bad reviews, give it 2 episodes. The show is genius! Its goes places and takes chances no other show has. Im obsessed with it. Marvel has taken a huge leap in creativit...</td>\n",
       "    </tr>\n",
       "    <tr>\n",
       "      <th>285</th>\n",
       "      <td>2021-01-15</td>\n",
       "      <td>First 3 Eps Seem Pointless - They're Not 😊</td>\n",
       "      <td>7</td>\n",
       "      <td>I gave this one star and an absolutely stinking review after watching the first two episodes. I just watched episode four and came back to revise my review. Well worth sticking with it.</td>\n",
       "    </tr>\n",
       "    <tr>\n",
       "      <th>660</th>\n",
       "      <td>2021-03-05</td>\n",
       "      <td>👎🏻</td>\n",
       "      <td>1</td>\n",
       "      <td>I am a fan of marvel movies and I was sure that the series would have been a success but watcher beware, this is one of the most boring and and failed series I have ever seen and Im not exaggerati...</td>\n",
       "    </tr>\n",
       "    <tr>\n",
       "      <th>1062</th>\n",
       "      <td>2021-02-19</td>\n",
       "      <td>This is just incredible 🙌🏽</td>\n",
       "      <td>10</td>\n",
       "      <td>It was a fantastic show! Every actor did an excellent job. I am happy to be the biggest fan of MCU!</td>\n",
       "    </tr>\n",
       "    <tr>\n",
       "      <th>1125</th>\n",
       "      <td>2021-01-16</td>\n",
       "      <td>Splendid 😺</td>\n",
       "      <td>10</td>\n",
       "      <td>Super hot fire, no fr tho cause why is it actually so good, idk why but like I love it.Its exciting to think about what there gonna do with the show, and it also is a very great way to bring marve...</td>\n",
       "    </tr>\n",
       "    <tr>\n",
       "      <th>1162</th>\n",
       "      <td>2021-06-19</td>\n",
       "      <td>Loved this show a lot😘😜</td>\n",
       "      <td>10</td>\n",
       "      <td>This is the most cliff hanging marvel show yet🎥🎥... Awesome story, starting was a real bummer and meant for boomers.... But its so amazing👍👍👍👍. Thank u marvel for this show.</td>\n",
       "    </tr>\n",
       "    <tr>\n",
       "      <th>1225</th>\n",
       "      <td>2021-02-15</td>\n",
       "      <td>Fall in love 💕💕😘</td>\n",
       "      <td>9</td>\n",
       "      <td>It was a fantastic show! Every actor did an excellent job. I am happy to be the biggest fan of MCU!</td>\n",
       "    </tr>\n",
       "    <tr>\n",
       "      <th>1350</th>\n",
       "      <td>2021-03-24</td>\n",
       "      <td>Wanda- A Scarlett Witch! This show is fire🔥.</td>\n",
       "      <td>8</td>\n",
       "      <td>This is a great show with 9 episodes out of which you have to go through first 3 episodes which are for the buildup of other 6 episodes. Keep watching this show with all your mind and focus. It wa...</td>\n",
       "    </tr>\n",
       "    <tr>\n",
       "      <th>1384</th>\n",
       "      <td>2021-01-29</td>\n",
       "      <td>Starting is slow but after 3 episodes 🔥🔥🔥</td>\n",
       "      <td>10</td>\n",
       "      <td>WandaVision is an American web television series, based on the Marvel Comics superheroes of the same names. The series is a sequel to Avengers: Endgame and a prequel to Doctor Strange in the Multi...</td>\n",
       "    </tr>\n",
       "    <tr>\n",
       "      <th>1693</th>\n",
       "      <td>2021-01-28</td>\n",
       "      <td>Good👍</td>\n",
       "      <td>10</td>\n",
       "      <td>Its not bad for me, Wanda acting is fantastic🤘😝🤘</td>\n",
       "    </tr>\n",
       "    <tr>\n",
       "      <th>1940</th>\n",
       "      <td>2021-02-05</td>\n",
       "      <td>Marvel is owning now 👌</td>\n",
       "      <td>10</td>\n",
       "      <td>Just bang on.. after episode 5.. thrills every moment.Just cant wait till next friday what are they gonna show next.</td>\n",
       "    </tr>\n",
       "    <tr>\n",
       "      <th>1973</th>\n",
       "      <td>2021-04-22</td>\n",
       "      <td>Boaring 😴</td>\n",
       "      <td>1</td>\n",
       "      <td>I found boaring and it didnt make sense. I liked winter soldier and falcon though..</td>\n",
       "    </tr>\n",
       "    <tr>\n",
       "      <th>1994</th>\n",
       "      <td>2021-03-07</td>\n",
       "      <td>Thank you MCU 🙏🏽</td>\n",
       "      <td>10</td>\n",
       "      <td>Firstly, thanks to everyones effort to write a review in the first place. This is my first review (that I can recall) ever. But after doing a 4 months marathon watching ALL MCU movies and series s...</td>\n",
       "    </tr>\n",
       "    <tr>\n",
       "      <th>2035</th>\n",
       "      <td>2021-01-18</td>\n",
       "      <td>Bored and Sad 😥</td>\n",
       "      <td>2</td>\n",
       "      <td>I was really looking forward to seeing this as I am a huge Marvel fan and the 50s sitcom idea is really original, what let this down was a very slow moving storyline and not enough tidbits about t...</td>\n",
       "    </tr>\n",
       "    <tr>\n",
       "      <th>2146</th>\n",
       "      <td>2021-01-15</td>\n",
       "      <td>NEVER EXPECTED THIS FROM MARVEL PERFECT SITCOM🔥🔥</td>\n",
       "      <td>8</td>\n",
       "      <td>This is review for starting 2 episodesGreat narration, they will make u laugh clearly and convincinglyWanda and vision out performed their charactersThe only thing made me to reduce the 2 stars is...</td>\n",
       "    </tr>\n",
       "    <tr>\n",
       "      <th>2343</th>\n",
       "      <td>2021-03-05</td>\n",
       "      <td>Reality often disappointing 💔🙂</td>\n",
       "      <td>7</td>\n",
       "      <td>After having too much rumours and Expectations Marvel just ruin everything! At least it had a cameo of Dr.strange or Loki! Wtf!</td>\n",
       "    </tr>\n",
       "    <tr>\n",
       "      <th>2368</th>\n",
       "      <td>2021-03-28</td>\n",
       "      <td>Great😭</td>\n",
       "      <td>10</td>\n",
       "      <td>Great.... waiting for 2nd season.. please marvel give us 2nd season.</td>\n",
       "    </tr>\n",
       "    <tr>\n",
       "      <th>2533</th>\n",
       "      <td>2021-01-16</td>\n",
       "      <td>Both the episode are too small to our hunger! Mostly comedy 😑</td>\n",
       "      <td>9</td>\n",
       "      <td>Two avengers, two powerful avengers in a comedy series! May be it is not of comedy genres overall, we have to see it full. However, as a marvel lover anyone must watch it!</td>\n",
       "    </tr>\n",
       "    <tr>\n",
       "      <th>2599</th>\n",
       "      <td>2021-03-17</td>\n",
       "      <td>💔</td>\n",
       "      <td>4</td>\n",
       "      <td>Worst show ever! Needs more development. I am very disappointed.</td>\n",
       "    </tr>\n",
       "  </tbody>\n",
       "</table>\n",
       "</div>"
      ],
      "text/plain": [
       "            date  \\\n",
       "116   2022-12-28   \n",
       "153   2021-02-16   \n",
       "285   2021-01-15   \n",
       "660   2021-03-05   \n",
       "1062  2021-02-19   \n",
       "1125  2021-01-16   \n",
       "1162  2021-06-19   \n",
       "1225  2021-02-15   \n",
       "1350  2021-03-24   \n",
       "1384  2021-01-29   \n",
       "1693  2021-01-28   \n",
       "1940  2021-02-05   \n",
       "1973  2021-04-22   \n",
       "1994  2021-03-07   \n",
       "2035  2021-01-18   \n",
       "2146  2021-01-15   \n",
       "2343  2021-03-05   \n",
       "2368  2021-03-28   \n",
       "2533  2021-01-16   \n",
       "2599  2021-03-17   \n",
       "\n",
       "                                                           headline  ratings  \\\n",
       "116                                           Scarlet witch rules 🎊       10   \n",
       "153                                                Marvel on fire 🔥       10   \n",
       "285                      First 3 Eps Seem Pointless - They're Not 😊        7   \n",
       "660                                                              👎🏻        1   \n",
       "1062                                     This is just incredible 🙌🏽       10   \n",
       "1125                                                     Splendid 😺       10   \n",
       "1162                                        Loved this show a lot😘😜       10   \n",
       "1225                                               Fall in love 💕💕😘        9   \n",
       "1350                   Wanda- A Scarlett Witch! This show is fire🔥.        8   \n",
       "1384                      Starting is slow but after 3 episodes 🔥🔥🔥       10   \n",
       "1693                                                          Good👍       10   \n",
       "1940                                         Marvel is owning now 👌       10   \n",
       "1973                                                      Boaring 😴        1   \n",
       "1994                                               Thank you MCU 🙏🏽       10   \n",
       "2035                                                Bored and Sad 😥        2   \n",
       "2146               NEVER EXPECTED THIS FROM MARVEL PERFECT SITCOM🔥🔥        8   \n",
       "2343                                 Reality often disappointing 💔🙂        7   \n",
       "2368                                                         Great😭       10   \n",
       "2533  Both the episode are too small to our hunger! Mostly comedy 😑        9   \n",
       "2599                                                              💔        4   \n",
       "\n",
       "                                                                                                                                                                                                      reviews  \n",
       "116   Oh my god this is like the best marvel series ever Sooo good to watch wands emotions take control of your mind and then even without knowing anything you will be developing a sympathy towards her....  \n",
       "153   For anyone giving this show bad reviews, give it 2 episodes. The show is genius! Its goes places and takes chances no other show has. Im obsessed with it. Marvel has taken a huge leap in creativit...  \n",
       "285                 I gave this one star and an absolutely stinking review after watching the first two episodes. I just watched episode four and came back to revise my review. Well worth sticking with it.  \n",
       "660   I am a fan of marvel movies and I was sure that the series would have been a success but watcher beware, this is one of the most boring and and failed series I have ever seen and Im not exaggerati...  \n",
       "1062                                                                                                      It was a fantastic show! Every actor did an excellent job. I am happy to be the biggest fan of MCU!  \n",
       "1125  Super hot fire, no fr tho cause why is it actually so good, idk why but like I love it.Its exciting to think about what there gonna do with the show, and it also is a very great way to bring marve...  \n",
       "1162                            This is the most cliff hanging marvel show yet🎥🎥... Awesome story, starting was a real bummer and meant for boomers.... But its so amazing👍👍👍👍. Thank u marvel for this show.  \n",
       "1225                                                                                                      It was a fantastic show! Every actor did an excellent job. I am happy to be the biggest fan of MCU!  \n",
       "1350  This is a great show with 9 episodes out of which you have to go through first 3 episodes which are for the buildup of other 6 episodes. Keep watching this show with all your mind and focus. It wa...  \n",
       "1384  WandaVision is an American web television series, based on the Marvel Comics superheroes of the same names. The series is a sequel to Avengers: Endgame and a prequel to Doctor Strange in the Multi...  \n",
       "1693                                                                                                                                                         Its not bad for me, Wanda acting is fantastic🤘😝🤘  \n",
       "1940                                                                                     Just bang on.. after episode 5.. thrills every moment.Just cant wait till next friday what are they gonna show next.  \n",
       "1973                                                                                                                      I found boaring and it didnt make sense. I liked winter soldier and falcon though..  \n",
       "1994  Firstly, thanks to everyones effort to write a review in the first place. This is my first review (that I can recall) ever. But after doing a 4 months marathon watching ALL MCU movies and series s...  \n",
       "2035  I was really looking forward to seeing this as I am a huge Marvel fan and the 50s sitcom idea is really original, what let this down was a very slow moving storyline and not enough tidbits about t...  \n",
       "2146  This is review for starting 2 episodesGreat narration, they will make u laugh clearly and convincinglyWanda and vision out performed their charactersThe only thing made me to reduce the 2 stars is...  \n",
       "2343                                                                          After having too much rumours and Expectations Marvel just ruin everything! At least it had a cameo of Dr.strange or Loki! Wtf!  \n",
       "2368                                                                                                                                     Great.... waiting for 2nd season.. please marvel give us 2nd season.  \n",
       "2533                              Two avengers, two powerful avengers in a comedy series! May be it is not of comedy genres overall, we have to see it full. However, as a marvel lover anyone must watch it!  \n",
       "2599                                                                                                                                         Worst show ever! Needs more development. I am very disappointed.  "
      ]
     },
     "execution_count": 11,
     "metadata": {},
     "output_type": "execute_result"
    }
   ],
   "source": [
    "from emoji import emoji_list, demojize\n",
    "\n",
    "IDMB_filtered.loc[IDMB_filtered.headline.apply(emoji_list).map(lambda x: len(x)) != 0]"
   ]
  },
  {
   "cell_type": "markdown",
   "metadata": {},
   "source": [
    "Looking into headlines, we observe that some of them heve emojis."
   ]
  },
  {
   "cell_type": "markdown",
   "metadata": {},
   "source": [
    "## Sentiment Analysis Implementation  \n",
    "\n",
    "We will now be using libraries like `nltk` and `texthero` to process and classify text for analysis.  \n",
    "To ensure maximally accurate classification, we have given certain scores to certain words in reviews to get precise score and hence, classify based on it."
   ]
  },
  {
   "cell_type": "code",
   "execution_count": 12,
   "metadata": {},
   "outputs": [],
   "source": [
    "import texthero\n",
    "import re\n",
    "\n",
    "from nltk.sentiment.vader import SentimentIntensityAnalyzer\n",
    "\n",
    "# MAX_LENGTH = 400\n",
    "\n",
    "new_words = {\n",
    "    # POSITIVE SCORE\n",
    "    'good': 10, 'best': 20, 'fine': 5, 'amazing': 10, 'excellent': 20, 'intrigue': 10, 'intriguing': 10, 'intrigued': 10,\n",
    "    'brilliant': 20, 'great': 15, 'exceptional':20, 'spectacular': 20, 'genius': 10, 'obsessed': 15, 'creative': 10,\n",
    "    'fantastic': 15, 'splendid': 15, 'terrific': 15, 'awesome': 15, 'wonderful': 15, 'perfect': 20, 'epic': 20, 'perfect': 20, 'impressed': 15,\n",
    "    # NEGATIVE SCORE\n",
    "    'disappointed': -10, 'worst': -20, 'unneccessary': -5,\n",
    "    'awful': -10, 'bad': -10, 'badly': -10, 'bland': -10, 'boring': -10, 'trash': -20, 'upsetting': -10, 'overhyped': -10, 'overrated': -10,\n",
    "    'confusing': -10, 'horrible': -20, 'predictable': -10, 'useless': -10, 'pathetic': -10, 'rubbish': -10, 'garbage': -10, 'waste time': -20,\n",
    "    'nonsense': -10, 'unwatchable': -10, 'woke': -5,\n",
    "    # NEUTRAL SCORE\n",
    "    'negative': 0, 'positive': 0, # to avoid bias towards a classification\n",
    "    'better': 0, # this is not used as a positive comparison\n",
    "    'alright': 0, 'tragic': 0, 'insane': 0, 'complicated': 0, 'silly': 0, 'casual': 0, 'mad': 0, 'never': 0,\n",
    "    'sad': 0, # wanda's story is sad so shouldn't affect\n",
    "    'creepy': 0, 'nightmare': 0, # nightmare can be a reference to a character in the show\n",
    "    'strange': 0, # this could be reference to Dr Strange\n",
    "    'fan': 0 # this has been used in a mixed way\n",
    "}\n",
    "\n",
    "vader = SentimentIntensityAnalyzer()\n",
    "# Update the lexicon\n",
    "vader.lexicon.update(new_words)\n",
    "\n",
    "def extract_sentiment(s1: pd.Series, s2: pd.Series):\n",
    "    negation_re = re.compile(r\"\\b(not|no|never|cannot|cant|doesnt)\\b[\\s]+([a-z]+)\", re.IGNORECASE)\n",
    "    s1_processed = s1.apply(lambda x: negation_re.sub(lambda match: f\"{match.group(1)}_{match.group(2)}\", x))\n",
    "    s2_processed = s2.apply(lambda x: negation_re.sub(lambda match: f\"{match.group(1)}_{match.group(2)}\", x))\n",
    "    text_processed = texthero.clean(s1_processed.str.cat(s2_processed, sep=\" \"))\n",
    "    # text_processed = text_processed.apply(lambda x: \" \".join(set(x.split())))\n",
    "    sentiment_extracted = [vader.polarity_scores(text) for text in text_processed]\n",
    "    # sentiment_extracted = pd.Series([sentiment_pipeline(text[:MAX_LENGTH])[0]['label'] for text in text_processed], name='sentiment')\n",
    "    return text_processed, sentiment_extracted\n",
    "\n",
    "def label_sentiment(x,y):\n",
    "    if x >= y:\n",
    "        return 'NEGATIVE'\n",
    "    else:\n",
    "        return 'POSITIVE'\n",
    "\n",
    "text, sentiment_scores = (extract_sentiment(IDMB_filtered.headline, IDMB_filtered.reviews))\n",
    "sentiment_df = pd.DataFrame(sentiment_scores).drop(['compound', 'neu'], axis=1)\n",
    "sentiment_df['sentiment'] = sentiment_df.apply(lambda x: label_sentiment(x.neg, x.pos), axis=1)\n",
    "sentiment_df.columns = ['negative_score', 'positive_score', 'sentiment']\n",
    "IDMB_filtered['text'] = text\n",
    "IDMB_cleaned = IDMB_filtered.join(sentiment_df).drop(['headline', 'reviews'], axis=1)\n"
   ]
  },
  {
   "cell_type": "code",
   "execution_count": 13,
   "metadata": {},
   "outputs": [
    {
     "data": {
      "text/html": [
       "<div>\n",
       "<style scoped>\n",
       "    .dataframe tbody tr th:only-of-type {\n",
       "        vertical-align: middle;\n",
       "    }\n",
       "\n",
       "    .dataframe tbody tr th {\n",
       "        vertical-align: top;\n",
       "    }\n",
       "\n",
       "    .dataframe thead th {\n",
       "        text-align: right;\n",
       "    }\n",
       "</style>\n",
       "<table border=\"1\" class=\"dataframe\">\n",
       "  <thead>\n",
       "    <tr style=\"text-align: right;\">\n",
       "      <th></th>\n",
       "      <th>date</th>\n",
       "      <th>ratings</th>\n",
       "      <th>text</th>\n",
       "      <th>negative_score</th>\n",
       "      <th>positive_score</th>\n",
       "      <th>sentiment</th>\n",
       "    </tr>\n",
       "  </thead>\n",
       "  <tbody>\n",
       "    <tr>\n",
       "      <th>717</th>\n",
       "      <td>2021-02-13</td>\n",
       "      <td>10</td>\n",
       "      <td>could give based creativity alone including everything else gives elizabeth olsen paul bettany amazing actors</td>\n",
       "      <td>0.072</td>\n",
       "      <td>0.493</td>\n",
       "      <td>POSITIVE</td>\n",
       "    </tr>\n",
       "    <tr>\n",
       "      <th>364</th>\n",
       "      <td>2021-03-06</td>\n",
       "      <td>10</td>\n",
       "      <td>great 1st marvel series disney fantastic show every actor excellent job happy biggest fan mcu</td>\n",
       "      <td>0.000</td>\n",
       "      <td>0.856</td>\n",
       "      <td>POSITIVE</td>\n",
       "    </tr>\n",
       "    <tr>\n",
       "      <th>215</th>\n",
       "      <td>2021-03-07</td>\n",
       "      <td>10</td>\n",
       "      <td>poignant meditation grief think truly phenomenal show way details history american television past years reflects role women shows indeed resonant portrayal wandas profound grief feel many ways sh...</td>\n",
       "      <td>0.208</td>\n",
       "      <td>0.199</td>\n",
       "      <td>NEGATIVE</td>\n",
       "    </tr>\n",
       "    <tr>\n",
       "      <th>934</th>\n",
       "      <td>2021-03-07</td>\n",
       "      <td>10</td>\n",
       "      <td>amazing slow starting episode amazing many complain loose ends finale however start phase setting different movies series come</td>\n",
       "      <td>0.118</td>\n",
       "      <td>0.539</td>\n",
       "      <td>POSITIVE</td>\n",
       "    </tr>\n",
       "    <tr>\n",
       "      <th>104</th>\n",
       "      <td>2023-06-17</td>\n",
       "      <td>8</td>\n",
       "      <td>perfect delight watch first episodes enthralling unimaginable sitcoms 60s creative left hypnotized various times would imagined something different strange would successful fact imagined fall love...</td>\n",
       "      <td>0.080</td>\n",
       "      <td>0.570</td>\n",
       "      <td>POSITIVE</td>\n",
       "    </tr>\n",
       "  </tbody>\n",
       "</table>\n",
       "</div>"
      ],
      "text/plain": [
       "           date  ratings  \\\n",
       "717  2021-02-13       10   \n",
       "364  2021-03-06       10   \n",
       "215  2021-03-07       10   \n",
       "934  2021-03-07       10   \n",
       "104  2023-06-17        8   \n",
       "\n",
       "                                                                                                                                                                                                        text  \\\n",
       "717                                                                                            could give based creativity alone including everything else gives elizabeth olsen paul bettany amazing actors   \n",
       "364                                                                                                            great 1st marvel series disney fantastic show every actor excellent job happy biggest fan mcu   \n",
       "215  poignant meditation grief think truly phenomenal show way details history american television past years reflects role women shows indeed resonant portrayal wandas profound grief feel many ways sh...   \n",
       "934                                                                           amazing slow starting episode amazing many complain loose ends finale however start phase setting different movies series come   \n",
       "104  perfect delight watch first episodes enthralling unimaginable sitcoms 60s creative left hypnotized various times would imagined something different strange would successful fact imagined fall love...   \n",
       "\n",
       "     negative_score  positive_score sentiment  \n",
       "717           0.072           0.493  POSITIVE  \n",
       "364           0.000           0.856  POSITIVE  \n",
       "215           0.208           0.199  NEGATIVE  \n",
       "934           0.118           0.539  POSITIVE  \n",
       "104           0.080           0.570  POSITIVE  "
      ]
     },
     "execution_count": 13,
     "metadata": {},
     "output_type": "execute_result"
    }
   ],
   "source": [
    "IDMB_cleaned.sample(5)"
   ]
  },
  {
   "cell_type": "code",
   "execution_count": 14,
   "metadata": {},
   "outputs": [],
   "source": [
    "IDMB_cleaned.to_csv('IDMB_cleaned.csv', index=False)"
   ]
  },
  {
   "cell_type": "markdown",
   "metadata": {},
   "source": [
    "## Results Visualization  \n",
    "\n",
    "We will now be seeing what kind of information we can extract from the processed data."
   ]
  },
  {
   "cell_type": "code",
   "execution_count": 16,
   "metadata": {},
   "outputs": [],
   "source": [
    "import plotly.express as px\n"
   ]
  },
  {
   "cell_type": "code",
   "execution_count": 17,
   "metadata": {},
   "outputs": [
    {
     "data": {
      "application/vnd.plotly.v1+json": {
       "config": {
        "plotlyServerURL": "https://plot.ly"
       },
       "data": [
        {
         "alignmentgroup": "True",
         "bingroup": "x",
         "hovertemplate": "Sentiment behind reviews=POSITIVE<br>Ratings=%{x}<br>count=%{y}<extra></extra>",
         "legendgroup": "POSITIVE",
         "marker": {
          "color": "#11CC11",
          "pattern": {
           "shape": ""
          }
         },
         "name": "POSITIVE",
         "offsetgroup": "POSITIVE",
         "orientation": "v",
         "showlegend": true,
         "texttemplate": "%{value}",
         "type": "histogram",
         "x": [
          9,
          9,
          10,
          7,
          8,
          8,
          10,
          8,
          8,
          5,
          4,
          9,
          9,
          8,
          9,
          5,
          8,
          8,
          10,
          10,
          5,
          6,
          8,
          7,
          9,
          7,
          5,
          8,
          6,
          8,
          10,
          10,
          7,
          10,
          10,
          8,
          8,
          9,
          9,
          6,
          8,
          9,
          10,
          10,
          8,
          5,
          10,
          10,
          7,
          9,
          7,
          5,
          10,
          10,
          3,
          8,
          8,
          3,
          7,
          9,
          10,
          9,
          5,
          8,
          9,
          7,
          8,
          6,
          10,
          9,
          10,
          7,
          10,
          10,
          9,
          7,
          10,
          6,
          8,
          9,
          10,
          7,
          8,
          10,
          8,
          9,
          8,
          7,
          10,
          8,
          9,
          8,
          10,
          8,
          8,
          9,
          10,
          6,
          10,
          7,
          9,
          8,
          9,
          8,
          10,
          8,
          10,
          6,
          8,
          10,
          10,
          7,
          8,
          7,
          1,
          9,
          8,
          5,
          10,
          8,
          6,
          9,
          9,
          8,
          10,
          7,
          10,
          10,
          10,
          6,
          9,
          6,
          9,
          8,
          9,
          8,
          8,
          8,
          9,
          1,
          8,
          1,
          9,
          10,
          10,
          7,
          8,
          9,
          4,
          9,
          2,
          1,
          9,
          8,
          9,
          10,
          8,
          9,
          9,
          10,
          9,
          10,
          9,
          10,
          10,
          9,
          8,
          9,
          7,
          9,
          1,
          9,
          8,
          10,
          10,
          10,
          8,
          8,
          10,
          7,
          9,
          10,
          10,
          10,
          9,
          4,
          4,
          9,
          9,
          10,
          8,
          10,
          10,
          10,
          9,
          8,
          10,
          8,
          10,
          1,
          9,
          9,
          10,
          10,
          3,
          10,
          10,
          7,
          9,
          10,
          4,
          8,
          5,
          8,
          7,
          1,
          10,
          10,
          10,
          9,
          9,
          8,
          10,
          10,
          9,
          10,
          9,
          8,
          9,
          9,
          10,
          8,
          10,
          10,
          9,
          6,
          4,
          8,
          7,
          10,
          8,
          8,
          8,
          6,
          10,
          10,
          8,
          9,
          1,
          9,
          7,
          1,
          6,
          10,
          9,
          10,
          8,
          8,
          9,
          7,
          10,
          8,
          8,
          10,
          10,
          7,
          9,
          7,
          2,
          10,
          8,
          8,
          10,
          10,
          2,
          7,
          5,
          9,
          5,
          9,
          10,
          9,
          8,
          9,
          6,
          9,
          10,
          6,
          8,
          10,
          1,
          8,
          7,
          10,
          10,
          7,
          10,
          8,
          10,
          10,
          9,
          10,
          8,
          9,
          9,
          10,
          9,
          9,
          10,
          7,
          9,
          10,
          7,
          10,
          8,
          9,
          6,
          4,
          7,
          10,
          8,
          8,
          5,
          10,
          1,
          9,
          1,
          8,
          8,
          10,
          9,
          8,
          8,
          8,
          9,
          5,
          8,
          10,
          10,
          10,
          8,
          7,
          9,
          9,
          10,
          10,
          10,
          2,
          8,
          8,
          10,
          10,
          9,
          10,
          7,
          10,
          8,
          4,
          5,
          6,
          10,
          9,
          1,
          10,
          7,
          8,
          8,
          8,
          1,
          9,
          10,
          10,
          7,
          9,
          10,
          10,
          10,
          8,
          7,
          10,
          8,
          8,
          1,
          7,
          9,
          9,
          8,
          8,
          9,
          9,
          9,
          8,
          8,
          8,
          10,
          7,
          7,
          7,
          8,
          9,
          8,
          9,
          10,
          10,
          9,
          8,
          7,
          8,
          8,
          10,
          9,
          10,
          9,
          7,
          10,
          10,
          10,
          8,
          10,
          10,
          8,
          7,
          10,
          10,
          8,
          8,
          8,
          10,
          8,
          7,
          10,
          8,
          10,
          8,
          9,
          8,
          6,
          7,
          2,
          10,
          1,
          8,
          10,
          10,
          10,
          5,
          10,
          10,
          9,
          3,
          10,
          8,
          10,
          10,
          10,
          7,
          10,
          9,
          8,
          10,
          7,
          9,
          10,
          8,
          9,
          10,
          7,
          9,
          9,
          10,
          10,
          7,
          9,
          9,
          8,
          9,
          8,
          8,
          8,
          5,
          10,
          9,
          10,
          10,
          7,
          8,
          8,
          10,
          9,
          10,
          1,
          10,
          8,
          10,
          1,
          7,
          8,
          9,
          10,
          5,
          10,
          10,
          7,
          10,
          10,
          9,
          6,
          10,
          8,
          8,
          1,
          9,
          10,
          7,
          8,
          10,
          8,
          3,
          9,
          9,
          5,
          9,
          9,
          2,
          6,
          6,
          4,
          8,
          8,
          9,
          10,
          5,
          10,
          9,
          10,
          8,
          5,
          9,
          6,
          3,
          10,
          8,
          9,
          9,
          6,
          8,
          10,
          10,
          3,
          8,
          8,
          10,
          5,
          8,
          8,
          8,
          10,
          8,
          10,
          10,
          10,
          8,
          10,
          10,
          9,
          9,
          10,
          10,
          7,
          10,
          8,
          10,
          9,
          4,
          9,
          10,
          9,
          8,
          3,
          9,
          10,
          5,
          8,
          9,
          10,
          10,
          9,
          10,
          8,
          1,
          8,
          10,
          7,
          1,
          9,
          10,
          9,
          7,
          10,
          3,
          8,
          7,
          10,
          10,
          10,
          9,
          10,
          9,
          8,
          9,
          7,
          4,
          10,
          9,
          9,
          10,
          10,
          10,
          10,
          10,
          7,
          8,
          8,
          8,
          10,
          10,
          8,
          10,
          10,
          6,
          8,
          8,
          7,
          7,
          5,
          1,
          9,
          8,
          9,
          9,
          10,
          10,
          8,
          9,
          10,
          9,
          8,
          10,
          10,
          7,
          1,
          6,
          2,
          8,
          10,
          8,
          5,
          10,
          8,
          7,
          8,
          10,
          6,
          9,
          7,
          6,
          5,
          10,
          4,
          9,
          3,
          6,
          10,
          8,
          10,
          10,
          10,
          1,
          3,
          8,
          4,
          9,
          6,
          5,
          1,
          7,
          9,
          9,
          7,
          9,
          6,
          7,
          1,
          1,
          10,
          3,
          9,
          9,
          7,
          9,
          9,
          6,
          10,
          9,
          9,
          10,
          10,
          10,
          9,
          9,
          10,
          10,
          6,
          10,
          10,
          3,
          1,
          8,
          6,
          9,
          9,
          10,
          8,
          8,
          9,
          9,
          10,
          10,
          5,
          8,
          8,
          1,
          5,
          10,
          8,
          9,
          5,
          10,
          10,
          9,
          8,
          1,
          10,
          9,
          10,
          5,
          10,
          6,
          10,
          9,
          6,
          5,
          9,
          10,
          4,
          1,
          6,
          10,
          8,
          10,
          8,
          7,
          2,
          6,
          10,
          9,
          9,
          9,
          7,
          10,
          10,
          10,
          10,
          10,
          10,
          1,
          10,
          9,
          9,
          7,
          7,
          10,
          8,
          9,
          10,
          10,
          4,
          10,
          8,
          6,
          8,
          2,
          9,
          4,
          1,
          9,
          10,
          10,
          7,
          8,
          3,
          10,
          8,
          7,
          1,
          8,
          8,
          10,
          8,
          8,
          8,
          10,
          10,
          10,
          9,
          9,
          3,
          9,
          10,
          8,
          10,
          9,
          8,
          8,
          9,
          8,
          5,
          8,
          7,
          9,
          9,
          9,
          5,
          8,
          10,
          10,
          10,
          8,
          7,
          9,
          10,
          10,
          10,
          10,
          9,
          10,
          10,
          10,
          1,
          9,
          2,
          6,
          10,
          8,
          6,
          10,
          10,
          10,
          6,
          10,
          8,
          1,
          10,
          10,
          10,
          10,
          7,
          6,
          10,
          10,
          1,
          1,
          9,
          10,
          8,
          8,
          6,
          9,
          6,
          1,
          5,
          10,
          10,
          6,
          10,
          7,
          9,
          6,
          9,
          9,
          10,
          10,
          9,
          10,
          8,
          10,
          10,
          8,
          9,
          9,
          10,
          10,
          8,
          1,
          5,
          8,
          9,
          8,
          9,
          7,
          8,
          10,
          10,
          10,
          3,
          10,
          9,
          1,
          10,
          10,
          8,
          8,
          4,
          10,
          8,
          10,
          10,
          9,
          8,
          9,
          7,
          10,
          9,
          7,
          8,
          10,
          8,
          10,
          8,
          10,
          9,
          8,
          10,
          8,
          10,
          9,
          7,
          10,
          8,
          10,
          10,
          8,
          5,
          5,
          10,
          10,
          7,
          6,
          10,
          10,
          10,
          10,
          6,
          10,
          10,
          5,
          5,
          9,
          5,
          10,
          9,
          2,
          6,
          1,
          10,
          9,
          10,
          10,
          6,
          2,
          10,
          10,
          9,
          10,
          4,
          10,
          6,
          10,
          8,
          9,
          10,
          10,
          9,
          9,
          5,
          8,
          8,
          10,
          10,
          10,
          8,
          10,
          9,
          10,
          10,
          10,
          10,
          4,
          10,
          10,
          9,
          9,
          7,
          8,
          10,
          10,
          10,
          8,
          6,
          10,
          3,
          6,
          8,
          10,
          10,
          10,
          6,
          10,
          7,
          5,
          10,
          1,
          8,
          9,
          10,
          10,
          10,
          10,
          1,
          3,
          10,
          9,
          10,
          10,
          7,
          9,
          1,
          9,
          7,
          6,
          10,
          10,
          1,
          2,
          5,
          8,
          10,
          6,
          7,
          10,
          8,
          10,
          10,
          10,
          6,
          10,
          9,
          9,
          10,
          1,
          8,
          10,
          8,
          9,
          8,
          10,
          7,
          6,
          10,
          9,
          10,
          5,
          1,
          10,
          10,
          10,
          9,
          7,
          9,
          5,
          10,
          7,
          1,
          10,
          10,
          10,
          10,
          9,
          4,
          10,
          7,
          10,
          8,
          7,
          2,
          10,
          8,
          10,
          10,
          3,
          8,
          10,
          10,
          9,
          4,
          9,
          6,
          9,
          5,
          6,
          10,
          9,
          10,
          5,
          7,
          10,
          9,
          10,
          10,
          10,
          1,
          10,
          10,
          7,
          10,
          10,
          10,
          10,
          9,
          1,
          1,
          6,
          10,
          9,
          5,
          7,
          8,
          10,
          10,
          3,
          8,
          9,
          10,
          10,
          10,
          4,
          3,
          9,
          10,
          9,
          6,
          10,
          9,
          10,
          10,
          10,
          8,
          2,
          1,
          9,
          1,
          9,
          7,
          10,
          10,
          7,
          10,
          1,
          10,
          10,
          9,
          9,
          10,
          7,
          10,
          10,
          1,
          10,
          10,
          4,
          10,
          10,
          7,
          10,
          8,
          1,
          9,
          8,
          3,
          1,
          8,
          8,
          10,
          10,
          10,
          10,
          10,
          6,
          1,
          10,
          10,
          6,
          6,
          10,
          10,
          6,
          2,
          10,
          10,
          10,
          10,
          4,
          8,
          7,
          5,
          10,
          10,
          4,
          10,
          9,
          8,
          10,
          10,
          8,
          5,
          1,
          10,
          10,
          10,
          9,
          10,
          10,
          8,
          10,
          9,
          7,
          1,
          10,
          1,
          10,
          9,
          9,
          9,
          6,
          10,
          7,
          10,
          10,
          10,
          10,
          8,
          7,
          6,
          3,
          10,
          5,
          7,
          10,
          6,
          9,
          10,
          10,
          3,
          10,
          10,
          1,
          10,
          10,
          7,
          8,
          9,
          10,
          9,
          8,
          10,
          10,
          1,
          10,
          6,
          2,
          7,
          10,
          10,
          8,
          10,
          9,
          1,
          10,
          10,
          9,
          8,
          9,
          10,
          10,
          10,
          6,
          9,
          5,
          10,
          10,
          6,
          10,
          10,
          10,
          10,
          10,
          8,
          9,
          8,
          5,
          10,
          10,
          6,
          9,
          1,
          8,
          10,
          10,
          9,
          6,
          8,
          10,
          8,
          10,
          10,
          10,
          10,
          9,
          7,
          9,
          1,
          9,
          10,
          10,
          9,
          10,
          4,
          8,
          3,
          9,
          9,
          3,
          9,
          7,
          9,
          8,
          10,
          10,
          5,
          10,
          9,
          7,
          9,
          10,
          1,
          9,
          10,
          10,
          10,
          10,
          10,
          5,
          10,
          8,
          8,
          6,
          1,
          10,
          9,
          10,
          9,
          6,
          10,
          5,
          1,
          10,
          10,
          7,
          7,
          10,
          5,
          10,
          10,
          3,
          10,
          1,
          9,
          10,
          8,
          10,
          9,
          7,
          1,
          10,
          10,
          9,
          1,
          10,
          10,
          8,
          7,
          2,
          10,
          8,
          5,
          4,
          6,
          8,
          9,
          10,
          10,
          4,
          10,
          10,
          10,
          10,
          1,
          9,
          9,
          10,
          9,
          9,
          1,
          8,
          10,
          10,
          10,
          3,
          1,
          5,
          10,
          6,
          1,
          6,
          10,
          10,
          10,
          9,
          10,
          10,
          10,
          10,
          10,
          8,
          10,
          6,
          10,
          10,
          10,
          10,
          5,
          8,
          1,
          9,
          9,
          10,
          10,
          3,
          10,
          8,
          9,
          9,
          10,
          10,
          10,
          6,
          7,
          10,
          7,
          1,
          9,
          10,
          10,
          9,
          10,
          10,
          10,
          10,
          10,
          9,
          10,
          10,
          1,
          10,
          9,
          10,
          9,
          9,
          9,
          9,
          10,
          9,
          8,
          3,
          6,
          10,
          10,
          10,
          10,
          1,
          10,
          9,
          10,
          10,
          9,
          7,
          9,
          9,
          1,
          9,
          7,
          8,
          5,
          10,
          7,
          9,
          3,
          10,
          9,
          10,
          9,
          7,
          9,
          7,
          1,
          9,
          6,
          10,
          8,
          8,
          7,
          5,
          9,
          10,
          10,
          10,
          6,
          4,
          5,
          10,
          8,
          1,
          8,
          10,
          3,
          8,
          10,
          8,
          9,
          5,
          10,
          8,
          10,
          6,
          5,
          8,
          10,
          10,
          4,
          1,
          10,
          1,
          7,
          10,
          7,
          7,
          10,
          1,
          10,
          9,
          10,
          10,
          10,
          6,
          6,
          7,
          10,
          10,
          9,
          6,
          10,
          9,
          7,
          10,
          10,
          6,
          10,
          1,
          10,
          10,
          9,
          9,
          10,
          10,
          10,
          6,
          8,
          10,
          8,
          8,
          9,
          10,
          10,
          9,
          9,
          10,
          10,
          10,
          10,
          5,
          10,
          9,
          10,
          10,
          6,
          1,
          6,
          10,
          8,
          5,
          10,
          10,
          8,
          7,
          10,
          3,
          10,
          8,
          8,
          5,
          10,
          10,
          5,
          10,
          10,
          10,
          10,
          9,
          9,
          9,
          7,
          9,
          10,
          2,
          10,
          10,
          10,
          10,
          10,
          6,
          10,
          10,
          5,
          9,
          1,
          10,
          10,
          10,
          5,
          10,
          10,
          9,
          7,
          10,
          1,
          10,
          5,
          10,
          9,
          10,
          10,
          10,
          8,
          7,
          2,
          3,
          10,
          10,
          10,
          7,
          10,
          8,
          2,
          7,
          10,
          7,
          10,
          10,
          10,
          5,
          10,
          8,
          8,
          10,
          9,
          7,
          5,
          1,
          10,
          1,
          6,
          9,
          1,
          4,
          10,
          10,
          1,
          10,
          8,
          10,
          10,
          9,
          10,
          10,
          1,
          9,
          10,
          8,
          10,
          10,
          10,
          3,
          10,
          10,
          1,
          9,
          8,
          8,
          9,
          9,
          10,
          9,
          10,
          7,
          9,
          9,
          10,
          9,
          10,
          10,
          10,
          8,
          7,
          7,
          3,
          10,
          10,
          1,
          10,
          10,
          9,
          1,
          10,
          10,
          10,
          7,
          9,
          9,
          10,
          2,
          10,
          6,
          10,
          8,
          10,
          10,
          9,
          8,
          4,
          10,
          9,
          10,
          10,
          8,
          3,
          10,
          10,
          9,
          1,
          9,
          10,
          7,
          10,
          10,
          8,
          8,
          7,
          5,
          9,
          2,
          1,
          5,
          10,
          10,
          10,
          10,
          10,
          10,
          1,
          4,
          9,
          3,
          10,
          5,
          9,
          6,
          10,
          10,
          10,
          10,
          9,
          10,
          10,
          4,
          10,
          9,
          1,
          5,
          8,
          9,
          10,
          8,
          10,
          9,
          10,
          7,
          9,
          10,
          1,
          10,
          8,
          1,
          7,
          10,
          5,
          10,
          7,
          10,
          7,
          9,
          9,
          10,
          10,
          10,
          3,
          5,
          10,
          10,
          10,
          5,
          10,
          7,
          10,
          2,
          5,
          1,
          10,
          10,
          1,
          10,
          10,
          9,
          7,
          10,
          10,
          10,
          1,
          10,
          10,
          9,
          8,
          10,
          10,
          1,
          5,
          10,
          10,
          10,
          10,
          10,
          10,
          4,
          2,
          9,
          9,
          10,
          10,
          8,
          9,
          8,
          1,
          8,
          1,
          9,
          2,
          6,
          10,
          9,
          10,
          1,
          7,
          10,
          7,
          2,
          1,
          10,
          10,
          10,
          8,
          10,
          10,
          7,
          1,
          10,
          10,
          8,
          10,
          10,
          8,
          10,
          1,
          10,
          10,
          10,
          8,
          6,
          9,
          10,
          7,
          1,
          5,
          6,
          9,
          10,
          6,
          6,
          8,
          8,
          10,
          7,
          5,
          4,
          6,
          6,
          6,
          6
         ],
         "xaxis": "x",
         "yaxis": "y"
        },
        {
         "alignmentgroup": "True",
         "bingroup": "x",
         "hovertemplate": "Sentiment behind reviews=NEGATIVE<br>Ratings=%{x}<br>count=%{y}<extra></extra>",
         "legendgroup": "NEGATIVE",
         "marker": {
          "color": "#CC1111",
          "pattern": {
           "shape": ""
          }
         },
         "name": "NEGATIVE",
         "offsetgroup": "NEGATIVE",
         "orientation": "v",
         "showlegend": true,
         "texttemplate": "%{value}",
         "type": "histogram",
         "x": [
          7,
          6,
          5,
          10,
          5,
          2,
          6,
          5,
          4,
          5,
          10,
          5,
          5,
          1,
          1,
          7,
          6,
          1,
          1,
          5,
          7,
          1,
          10,
          1,
          1,
          1,
          9,
          1,
          6,
          1,
          8,
          7,
          3,
          7,
          1,
          5,
          3,
          10,
          2,
          7,
          2,
          8,
          1,
          4,
          3,
          1,
          1,
          1,
          4,
          8,
          9,
          7,
          8,
          3,
          2,
          10,
          1,
          3,
          1,
          5,
          1,
          6,
          8,
          2,
          8,
          7,
          1,
          1,
          1,
          1,
          1,
          4,
          1,
          2,
          4,
          1,
          9,
          2,
          8,
          1,
          4,
          6,
          10,
          1,
          1,
          2,
          9,
          6,
          9,
          1,
          7,
          3,
          3,
          10,
          3,
          6,
          1,
          3,
          10,
          1,
          6,
          6,
          10,
          2,
          2,
          1,
          1,
          1,
          3,
          5,
          1,
          1,
          3,
          9,
          1,
          9,
          4,
          5,
          1,
          1,
          10,
          8,
          2,
          2,
          9,
          8,
          1,
          9,
          8,
          1,
          1,
          10,
          1,
          3,
          1,
          1,
          1,
          4,
          1,
          10,
          6,
          6,
          2,
          9,
          1,
          7,
          8,
          2,
          2,
          1,
          10,
          1,
          9,
          1,
          2,
          5,
          1,
          1,
          7,
          1,
          1,
          6,
          2,
          5,
          1,
          1,
          4,
          1,
          1,
          7,
          8,
          2,
          4,
          1,
          3,
          9,
          7,
          4,
          1,
          3,
          1,
          4,
          7,
          7,
          3,
          1,
          2,
          6,
          3,
          1,
          8,
          6,
          8,
          7,
          3,
          2,
          1,
          5,
          1,
          6,
          1,
          7,
          4,
          10,
          2,
          9,
          8,
          3,
          7,
          1,
          1,
          1,
          1,
          4,
          5,
          3,
          10,
          1,
          5,
          3,
          3,
          1,
          1,
          10,
          1,
          2,
          4,
          1,
          8,
          2,
          7,
          4,
          1,
          1,
          5,
          1,
          5,
          10,
          5,
          10,
          7,
          4,
          1,
          10,
          1,
          1,
          3,
          1,
          1,
          1,
          1,
          1,
          1,
          1,
          1,
          1,
          10,
          1,
          5,
          1,
          7,
          1,
          3,
          3,
          1,
          1,
          1,
          1,
          10,
          1,
          1,
          1,
          5,
          2,
          3,
          1,
          5,
          1,
          6,
          1,
          7,
          3,
          4,
          7,
          4,
          10,
          1,
          5,
          4,
          10,
          1,
          2,
          1,
          2,
          1,
          1,
          1,
          7,
          8,
          6,
          6,
          1,
          1,
          1,
          10,
          7,
          2,
          5,
          4,
          1,
          2,
          7,
          1,
          1,
          1,
          5,
          1,
          7,
          1,
          1,
          2,
          1,
          1,
          1,
          1,
          1,
          1,
          2,
          1,
          1,
          1,
          4,
          3,
          2,
          1,
          3,
          5,
          7,
          8,
          1,
          1,
          2,
          7,
          2,
          2,
          5,
          2,
          1,
          5,
          1,
          3,
          5,
          1,
          6,
          7,
          10,
          1,
          7,
          1,
          10,
          1,
          1,
          1,
          1,
          7,
          1,
          9,
          3,
          1,
          1,
          10,
          6,
          1,
          1,
          1,
          1,
          1,
          2,
          2,
          1,
          1,
          1,
          4,
          8,
          3,
          1,
          10,
          10,
          10,
          6,
          2,
          1,
          1,
          1,
          7,
          5,
          10,
          1,
          4,
          1,
          7,
          8,
          3,
          4,
          6,
          10,
          9,
          1,
          10,
          6,
          9,
          10,
          1,
          1,
          1,
          7,
          3,
          6,
          1,
          1,
          2,
          2,
          6,
          3,
          1,
          1,
          1,
          1,
          1,
          2,
          5,
          4,
          1,
          6,
          1,
          1,
          1,
          5,
          2,
          1,
          10,
          2,
          3,
          1,
          4,
          1,
          1,
          3,
          8,
          1,
          7,
          1,
          1,
          3,
          10,
          10,
          1,
          10,
          1,
          3,
          6,
          4,
          4,
          3,
          1,
          1,
          1,
          10,
          1,
          2,
          10,
          4,
          6,
          1,
          1,
          10,
          6,
          2,
          3,
          2,
          1,
          1,
          2,
          1,
          2,
          1,
          3,
          1,
          8,
          1,
          4,
          7,
          2,
          10,
          4,
          1,
          9,
          3,
          1,
          7,
          1,
          10,
          1,
          2,
          1,
          2,
          9,
          1,
          1,
          1,
          1,
          5,
          1,
          8,
          3,
          3,
          6,
          3,
          1,
          1,
          1,
          6,
          1,
          2,
          1,
          3,
          8,
          1,
          1,
          3,
          1,
          2,
          1,
          1,
          10,
          1,
          1,
          8,
          5,
          9,
          1,
          1,
          7,
          1,
          1,
          1,
          10,
          1,
          2,
          1,
          1,
          1,
          10,
          9,
          1,
          3,
          1,
          2,
          6,
          1,
          4,
          1,
          1,
          5,
          1,
          2,
          10,
          8,
          1,
          2,
          10,
          1,
          5,
          7,
          1,
          10,
          3,
          7,
          4,
          3,
          7,
          3,
          6,
          7,
          2,
          1,
          1,
          1,
          4,
          1,
          1,
          4,
          4,
          1,
          1,
          1,
          8,
          8,
          10,
          4,
          1,
          2,
          3,
          3,
          4,
          7,
          2,
          2,
          3,
          2,
          1,
          1,
          2,
          1,
          9,
          1,
          2,
          6,
          2,
          1,
          3,
          1,
          2,
          1,
          1,
          8,
          4,
          3,
          7,
          3,
          1,
          2,
          4,
          1,
          2,
          3,
          2,
          1,
          3,
          1,
          6,
          4,
          5,
          1,
          1,
          2,
          1,
          6,
          2,
          1,
          1,
          7,
          4,
          1,
          1,
          3,
          5,
          6,
          1,
          1,
          1,
          4,
          3,
          1,
          5,
          5,
          10,
          7,
          1,
          5,
          5,
          4,
          1,
          4,
          7,
          1,
          7,
          5,
          3,
          4
         ],
         "xaxis": "x",
         "yaxis": "y"
        }
       ],
       "layout": {
        "barmode": "group",
        "font": {
         "family": "Arial",
         "size": 20
        },
        "legend": {
         "title": {
          "text": "Sentiment behind reviews"
         },
         "tracegroupgap": 0
        },
        "template": {
         "data": {
          "bar": [
           {
            "error_x": {
             "color": "#2a3f5f"
            },
            "error_y": {
             "color": "#2a3f5f"
            },
            "marker": {
             "line": {
              "color": "#E5ECF6",
              "width": 0.5
             },
             "pattern": {
              "fillmode": "overlay",
              "size": 10,
              "solidity": 0.2
             }
            },
            "type": "bar"
           }
          ],
          "barpolar": [
           {
            "marker": {
             "line": {
              "color": "#E5ECF6",
              "width": 0.5
             },
             "pattern": {
              "fillmode": "overlay",
              "size": 10,
              "solidity": 0.2
             }
            },
            "type": "barpolar"
           }
          ],
          "carpet": [
           {
            "aaxis": {
             "endlinecolor": "#2a3f5f",
             "gridcolor": "white",
             "linecolor": "white",
             "minorgridcolor": "white",
             "startlinecolor": "#2a3f5f"
            },
            "baxis": {
             "endlinecolor": "#2a3f5f",
             "gridcolor": "white",
             "linecolor": "white",
             "minorgridcolor": "white",
             "startlinecolor": "#2a3f5f"
            },
            "type": "carpet"
           }
          ],
          "choropleth": [
           {
            "colorbar": {
             "outlinewidth": 0,
             "ticks": ""
            },
            "type": "choropleth"
           }
          ],
          "contour": [
           {
            "colorbar": {
             "outlinewidth": 0,
             "ticks": ""
            },
            "colorscale": [
             [
              0,
              "#0d0887"
             ],
             [
              0.1111111111111111,
              "#46039f"
             ],
             [
              0.2222222222222222,
              "#7201a8"
             ],
             [
              0.3333333333333333,
              "#9c179e"
             ],
             [
              0.4444444444444444,
              "#bd3786"
             ],
             [
              0.5555555555555556,
              "#d8576b"
             ],
             [
              0.6666666666666666,
              "#ed7953"
             ],
             [
              0.7777777777777778,
              "#fb9f3a"
             ],
             [
              0.8888888888888888,
              "#fdca26"
             ],
             [
              1,
              "#f0f921"
             ]
            ],
            "type": "contour"
           }
          ],
          "contourcarpet": [
           {
            "colorbar": {
             "outlinewidth": 0,
             "ticks": ""
            },
            "type": "contourcarpet"
           }
          ],
          "heatmap": [
           {
            "colorbar": {
             "outlinewidth": 0,
             "ticks": ""
            },
            "colorscale": [
             [
              0,
              "#0d0887"
             ],
             [
              0.1111111111111111,
              "#46039f"
             ],
             [
              0.2222222222222222,
              "#7201a8"
             ],
             [
              0.3333333333333333,
              "#9c179e"
             ],
             [
              0.4444444444444444,
              "#bd3786"
             ],
             [
              0.5555555555555556,
              "#d8576b"
             ],
             [
              0.6666666666666666,
              "#ed7953"
             ],
             [
              0.7777777777777778,
              "#fb9f3a"
             ],
             [
              0.8888888888888888,
              "#fdca26"
             ],
             [
              1,
              "#f0f921"
             ]
            ],
            "type": "heatmap"
           }
          ],
          "heatmapgl": [
           {
            "colorbar": {
             "outlinewidth": 0,
             "ticks": ""
            },
            "colorscale": [
             [
              0,
              "#0d0887"
             ],
             [
              0.1111111111111111,
              "#46039f"
             ],
             [
              0.2222222222222222,
              "#7201a8"
             ],
             [
              0.3333333333333333,
              "#9c179e"
             ],
             [
              0.4444444444444444,
              "#bd3786"
             ],
             [
              0.5555555555555556,
              "#d8576b"
             ],
             [
              0.6666666666666666,
              "#ed7953"
             ],
             [
              0.7777777777777778,
              "#fb9f3a"
             ],
             [
              0.8888888888888888,
              "#fdca26"
             ],
             [
              1,
              "#f0f921"
             ]
            ],
            "type": "heatmapgl"
           }
          ],
          "histogram": [
           {
            "marker": {
             "pattern": {
              "fillmode": "overlay",
              "size": 10,
              "solidity": 0.2
             }
            },
            "type": "histogram"
           }
          ],
          "histogram2d": [
           {
            "colorbar": {
             "outlinewidth": 0,
             "ticks": ""
            },
            "colorscale": [
             [
              0,
              "#0d0887"
             ],
             [
              0.1111111111111111,
              "#46039f"
             ],
             [
              0.2222222222222222,
              "#7201a8"
             ],
             [
              0.3333333333333333,
              "#9c179e"
             ],
             [
              0.4444444444444444,
              "#bd3786"
             ],
             [
              0.5555555555555556,
              "#d8576b"
             ],
             [
              0.6666666666666666,
              "#ed7953"
             ],
             [
              0.7777777777777778,
              "#fb9f3a"
             ],
             [
              0.8888888888888888,
              "#fdca26"
             ],
             [
              1,
              "#f0f921"
             ]
            ],
            "type": "histogram2d"
           }
          ],
          "histogram2dcontour": [
           {
            "colorbar": {
             "outlinewidth": 0,
             "ticks": ""
            },
            "colorscale": [
             [
              0,
              "#0d0887"
             ],
             [
              0.1111111111111111,
              "#46039f"
             ],
             [
              0.2222222222222222,
              "#7201a8"
             ],
             [
              0.3333333333333333,
              "#9c179e"
             ],
             [
              0.4444444444444444,
              "#bd3786"
             ],
             [
              0.5555555555555556,
              "#d8576b"
             ],
             [
              0.6666666666666666,
              "#ed7953"
             ],
             [
              0.7777777777777778,
              "#fb9f3a"
             ],
             [
              0.8888888888888888,
              "#fdca26"
             ],
             [
              1,
              "#f0f921"
             ]
            ],
            "type": "histogram2dcontour"
           }
          ],
          "mesh3d": [
           {
            "colorbar": {
             "outlinewidth": 0,
             "ticks": ""
            },
            "type": "mesh3d"
           }
          ],
          "parcoords": [
           {
            "line": {
             "colorbar": {
              "outlinewidth": 0,
              "ticks": ""
             }
            },
            "type": "parcoords"
           }
          ],
          "pie": [
           {
            "automargin": true,
            "type": "pie"
           }
          ],
          "scatter": [
           {
            "fillpattern": {
             "fillmode": "overlay",
             "size": 10,
             "solidity": 0.2
            },
            "type": "scatter"
           }
          ],
          "scatter3d": [
           {
            "line": {
             "colorbar": {
              "outlinewidth": 0,
              "ticks": ""
             }
            },
            "marker": {
             "colorbar": {
              "outlinewidth": 0,
              "ticks": ""
             }
            },
            "type": "scatter3d"
           }
          ],
          "scattercarpet": [
           {
            "marker": {
             "colorbar": {
              "outlinewidth": 0,
              "ticks": ""
             }
            },
            "type": "scattercarpet"
           }
          ],
          "scattergeo": [
           {
            "marker": {
             "colorbar": {
              "outlinewidth": 0,
              "ticks": ""
             }
            },
            "type": "scattergeo"
           }
          ],
          "scattergl": [
           {
            "marker": {
             "colorbar": {
              "outlinewidth": 0,
              "ticks": ""
             }
            },
            "type": "scattergl"
           }
          ],
          "scattermapbox": [
           {
            "marker": {
             "colorbar": {
              "outlinewidth": 0,
              "ticks": ""
             }
            },
            "type": "scattermapbox"
           }
          ],
          "scatterpolar": [
           {
            "marker": {
             "colorbar": {
              "outlinewidth": 0,
              "ticks": ""
             }
            },
            "type": "scatterpolar"
           }
          ],
          "scatterpolargl": [
           {
            "marker": {
             "colorbar": {
              "outlinewidth": 0,
              "ticks": ""
             }
            },
            "type": "scatterpolargl"
           }
          ],
          "scatterternary": [
           {
            "marker": {
             "colorbar": {
              "outlinewidth": 0,
              "ticks": ""
             }
            },
            "type": "scatterternary"
           }
          ],
          "surface": [
           {
            "colorbar": {
             "outlinewidth": 0,
             "ticks": ""
            },
            "colorscale": [
             [
              0,
              "#0d0887"
             ],
             [
              0.1111111111111111,
              "#46039f"
             ],
             [
              0.2222222222222222,
              "#7201a8"
             ],
             [
              0.3333333333333333,
              "#9c179e"
             ],
             [
              0.4444444444444444,
              "#bd3786"
             ],
             [
              0.5555555555555556,
              "#d8576b"
             ],
             [
              0.6666666666666666,
              "#ed7953"
             ],
             [
              0.7777777777777778,
              "#fb9f3a"
             ],
             [
              0.8888888888888888,
              "#fdca26"
             ],
             [
              1,
              "#f0f921"
             ]
            ],
            "type": "surface"
           }
          ],
          "table": [
           {
            "cells": {
             "fill": {
              "color": "#EBF0F8"
             },
             "line": {
              "color": "white"
             }
            },
            "header": {
             "fill": {
              "color": "#C8D4E3"
             },
             "line": {
              "color": "white"
             }
            },
            "type": "table"
           }
          ]
         },
         "layout": {
          "annotationdefaults": {
           "arrowcolor": "#2a3f5f",
           "arrowhead": 0,
           "arrowwidth": 1
          },
          "autotypenumbers": "strict",
          "coloraxis": {
           "colorbar": {
            "outlinewidth": 0,
            "ticks": ""
           }
          },
          "colorscale": {
           "diverging": [
            [
             0,
             "#8e0152"
            ],
            [
             0.1,
             "#c51b7d"
            ],
            [
             0.2,
             "#de77ae"
            ],
            [
             0.3,
             "#f1b6da"
            ],
            [
             0.4,
             "#fde0ef"
            ],
            [
             0.5,
             "#f7f7f7"
            ],
            [
             0.6,
             "#e6f5d0"
            ],
            [
             0.7,
             "#b8e186"
            ],
            [
             0.8,
             "#7fbc41"
            ],
            [
             0.9,
             "#4d9221"
            ],
            [
             1,
             "#276419"
            ]
           ],
           "sequential": [
            [
             0,
             "#0d0887"
            ],
            [
             0.1111111111111111,
             "#46039f"
            ],
            [
             0.2222222222222222,
             "#7201a8"
            ],
            [
             0.3333333333333333,
             "#9c179e"
            ],
            [
             0.4444444444444444,
             "#bd3786"
            ],
            [
             0.5555555555555556,
             "#d8576b"
            ],
            [
             0.6666666666666666,
             "#ed7953"
            ],
            [
             0.7777777777777778,
             "#fb9f3a"
            ],
            [
             0.8888888888888888,
             "#fdca26"
            ],
            [
             1,
             "#f0f921"
            ]
           ],
           "sequentialminus": [
            [
             0,
             "#0d0887"
            ],
            [
             0.1111111111111111,
             "#46039f"
            ],
            [
             0.2222222222222222,
             "#7201a8"
            ],
            [
             0.3333333333333333,
             "#9c179e"
            ],
            [
             0.4444444444444444,
             "#bd3786"
            ],
            [
             0.5555555555555556,
             "#d8576b"
            ],
            [
             0.6666666666666666,
             "#ed7953"
            ],
            [
             0.7777777777777778,
             "#fb9f3a"
            ],
            [
             0.8888888888888888,
             "#fdca26"
            ],
            [
             1,
             "#f0f921"
            ]
           ]
          },
          "colorway": [
           "#636efa",
           "#EF553B",
           "#00cc96",
           "#ab63fa",
           "#FFA15A",
           "#19d3f3",
           "#FF6692",
           "#B6E880",
           "#FF97FF",
           "#FECB52"
          ],
          "font": {
           "color": "#2a3f5f"
          },
          "geo": {
           "bgcolor": "white",
           "lakecolor": "white",
           "landcolor": "#E5ECF6",
           "showlakes": true,
           "showland": true,
           "subunitcolor": "white"
          },
          "hoverlabel": {
           "align": "left"
          },
          "hovermode": "closest",
          "mapbox": {
           "style": "light"
          },
          "paper_bgcolor": "white",
          "plot_bgcolor": "#E5ECF6",
          "polar": {
           "angularaxis": {
            "gridcolor": "white",
            "linecolor": "white",
            "ticks": ""
           },
           "bgcolor": "#E5ECF6",
           "radialaxis": {
            "gridcolor": "white",
            "linecolor": "white",
            "ticks": ""
           }
          },
          "scene": {
           "xaxis": {
            "backgroundcolor": "#E5ECF6",
            "gridcolor": "white",
            "gridwidth": 2,
            "linecolor": "white",
            "showbackground": true,
            "ticks": "",
            "zerolinecolor": "white"
           },
           "yaxis": {
            "backgroundcolor": "#E5ECF6",
            "gridcolor": "white",
            "gridwidth": 2,
            "linecolor": "white",
            "showbackground": true,
            "ticks": "",
            "zerolinecolor": "white"
           },
           "zaxis": {
            "backgroundcolor": "#E5ECF6",
            "gridcolor": "white",
            "gridwidth": 2,
            "linecolor": "white",
            "showbackground": true,
            "ticks": "",
            "zerolinecolor": "white"
           }
          },
          "shapedefaults": {
           "line": {
            "color": "#2a3f5f"
           }
          },
          "ternary": {
           "aaxis": {
            "gridcolor": "white",
            "linecolor": "white",
            "ticks": ""
           },
           "baxis": {
            "gridcolor": "white",
            "linecolor": "white",
            "ticks": ""
           },
           "bgcolor": "#E5ECF6",
           "caxis": {
            "gridcolor": "white",
            "linecolor": "white",
            "ticks": ""
           }
          },
          "title": {
           "x": 0.05
          },
          "xaxis": {
           "automargin": true,
           "gridcolor": "white",
           "linecolor": "white",
           "ticks": "",
           "title": {
            "standoff": 15
           },
           "zerolinecolor": "white",
           "zerolinewidth": 2
          },
          "yaxis": {
           "automargin": true,
           "gridcolor": "white",
           "linecolor": "white",
           "ticks": "",
           "title": {
            "standoff": 15
           },
           "zerolinecolor": "white",
           "zerolinewidth": 2
          }
         }
        },
        "title": {
         "font": {
          "color": "rebeccapurple",
          "size": 28
         },
         "text": "Ratings frequency distribution (split by sentiments)"
        },
        "xaxis": {
         "anchor": "y",
         "domain": [
          0,
          1
         ],
         "title": {
          "text": "Ratings"
         }
        },
        "yaxis": {
         "anchor": "x",
         "domain": [
          0,
          1
         ],
         "title": {
          "text": "Frequecy of Ratings"
         }
        }
       }
      }
     },
     "metadata": {},
     "output_type": "display_data"
    }
   ],
   "source": [
    "fig = px.histogram(IDMB_cleaned, x='ratings', color='sentiment', barmode='group', hover_data=['ratings', 'sentiment'], category_orders={'sentiment': ['POSITIVE', 'NEGATIVE']}, color_discrete_sequence=['#11CC11', '#CC1111'],\n",
    "             labels={'ratings': 'Ratings', 'sentiment': 'Sentiment behind reviews'}, title='Ratings frequency distribution (split by sentiments)', text_auto=True)\n",
    "fig.update_layout(\n",
    "    font_family=\"Arial\",\n",
    "    font_size=20,\n",
    "    yaxis_title='Frequecy of Ratings',\n",
    "    title_font_size=28,\n",
    "    title_font_color=\"rebeccapurple\",\n",
    ")\n",
    "fig.show()"
   ]
  },
  {
   "cell_type": "markdown",
   "metadata": {},
   "source": [
    "1. From the visualizations, we observe that most of the ratings are above 8, with 10 having the highest count.  \n",
    "2. We also notice that after 5 star ratings, positive reviews dominate the overall review by about thrice the negative reviews, especially for 8 and above ratings - there were 10 times positive reviews than negative reviews.  \n",
    "\n",
    "This shows that WandaVision was enjoyed by majority of viewers."
   ]
  },
  {
   "cell_type": "code",
   "execution_count": 18,
   "metadata": {},
   "outputs": [
    {
     "data": {
      "image/png": "[encoded data removed]",
      "text/plain": [
       "<Figure size 2000x1000 with 1 Axes>"
      ]
     },
     "metadata": {},
     "output_type": "display_data"
    }
   ],
   "source": [
    "texthero.wordcloud(IDMB_cleaned.text, max_words=30, colormap='winter', background_color='lightyellow', relative_scaling=0)"
   ]
  },
  {
   "cell_type": "markdown",
   "metadata": {},
   "source": [
    "1. From the word cloud of top 30 words (words that occured the most in reviews), we observe that the reviews talked about Marvel (the franchise and the universe WandaVision TV series is part of) along with the show.  \n",
    "2. We spot some positive adjectives like 'good' and 'great' used to describe the show. As these were in top 30 words, the sitcom (at least some of the episodes) was enjoyed by majority.  \n",
    "3. We see word \"wanda\" frequently occuring which suggest the main character was mentioned often in reviews.  \n",
    "\n",
    "We can conclude that Wanda's character development throughout WandaVision was one of the reasons why most of the MCU fans praised Marvel's first TV show."
   ]
  },
  {
   "cell_type": "code",
   "execution_count": 19,
   "metadata": {},
   "outputs": [
    {
     "data": {
      "application/vnd.plotly.v1+json": {
       "config": {
        "plotlyServerURL": "https://plot.ly"
       },
       "data": [
        {
         "customdata": [
          [
           "POSITIVE"
          ],
          [
           "POSITIVE"
          ],
          [
           "POSITIVE"
          ],
          [
           "POSITIVE"
          ],
          [
           "POSITIVE"
          ],
          [
           "POSITIVE"
          ],
          [
           "POSITIVE"
          ],
          [
           "POSITIVE"
          ],
          [
           "POSITIVE"
          ],
          [
           "POSITIVE"
          ],
          [
           "POSITIVE"
          ],
          [
           "POSITIVE"
          ],
          [
           "POSITIVE"
          ],
          [
           "POSITIVE"
          ],
          [
           "POSITIVE"
          ],
          [
           "POSITIVE"
          ],
          [
           "POSITIVE"
          ],
          [
           "POSITIVE"
          ],
          [
           "POSITIVE"
          ],
          [
           "POSITIVE"
          ],
          [
           "POSITIVE"
          ],
          [
           "POSITIVE"
          ],
          [
           "POSITIVE"
          ],
          [
           "POSITIVE"
          ],
          [
           "POSITIVE"
          ],
          [
           "POSITIVE"
          ],
          [
           "POSITIVE"
          ],
          [
           "POSITIVE"
          ],
          [
           "POSITIVE"
          ],
          [
           "POSITIVE"
          ],
          [
           "POSITIVE"
          ],
          [
           "POSITIVE"
          ],
          [
           "POSITIVE"
          ],
          [
           "POSITIVE"
          ],
          [
           "POSITIVE"
          ],
          [
           "POSITIVE"
          ],
          [
           "POSITIVE"
          ],
          [
           "POSITIVE"
          ],
          [
           "POSITIVE"
          ],
          [
           "POSITIVE"
          ],
          [
           "POSITIVE"
          ],
          [
           "POSITIVE"
          ],
          [
           "POSITIVE"
          ],
          [
           "POSITIVE"
          ],
          [
           "POSITIVE"
          ],
          [
           "POSITIVE"
          ],
          [
           "POSITIVE"
          ],
          [
           "POSITIVE"
          ],
          [
           "POSITIVE"
          ],
          [
           "POSITIVE"
          ],
          [
           "POSITIVE"
          ],
          [
           "POSITIVE"
          ],
          [
           "POSITIVE"
          ],
          [
           "POSITIVE"
          ],
          [
           "POSITIVE"
          ],
          [
           "POSITIVE"
          ],
          [
           "POSITIVE"
          ],
          [
           "POSITIVE"
          ],
          [
           "POSITIVE"
          ],
          [
           "POSITIVE"
          ],
          [
           "POSITIVE"
          ],
          [
           "POSITIVE"
          ],
          [
           "POSITIVE"
          ],
          [
           "POSITIVE"
          ],
          [
           "POSITIVE"
          ],
          [
           "POSITIVE"
          ],
          [
           "POSITIVE"
          ],
          [
           "POSITIVE"
          ],
          [
           "POSITIVE"
          ],
          [
           "POSITIVE"
          ],
          [
           "POSITIVE"
          ],
          [
           "POSITIVE"
          ],
          [
           "POSITIVE"
          ],
          [
           "POSITIVE"
          ],
          [
           "POSITIVE"
          ],
          [
           "POSITIVE"
          ]
         ],
         "hovertemplate": "<b>%{hovertext}</b><br><br>sentiment=%{customdata[0]}<br>date=%{x}<br>reviewcount=%{text}<extra></extra>",
         "hovertext": [
          "2021-01-15",
          "2021-01-16",
          "2021-01-17",
          "2021-01-18",
          "2021-01-19",
          "2021-01-20",
          "2021-01-21",
          "2021-01-22",
          "2021-01-23",
          "2021-01-24",
          "2021-01-25",
          "2021-01-26",
          "2021-01-27",
          "2021-01-28",
          "2021-01-29",
          "2021-01-30",
          "2021-01-31",
          "2021-02-01",
          "2021-02-02",
          "2021-02-03",
          "2021-02-04",
          "2021-02-05",
          "2021-02-06",
          "2021-02-07",
          "2021-02-08",
          "2021-02-09",
          "2021-02-10",
          "2021-02-11",
          "2021-02-12",
          "2021-02-13",
          "2021-02-14",
          "2021-02-15",
          "2021-02-16",
          "2021-02-17",
          "2021-02-18",
          "2021-02-19",
          "2021-02-20",
          "2021-02-21",
          "2021-02-22",
          "2021-02-23",
          "2021-02-24",
          "2021-02-25",
          "2021-02-26",
          "2021-02-27",
          "2021-02-28",
          "2021-03-01",
          "2021-03-02",
          "2021-03-03",
          "2021-03-04",
          "2021-03-05",
          "2021-03-06",
          "2021-03-07",
          "2021-03-08",
          "2021-03-09",
          "2021-03-10",
          "2021-03-11",
          "2021-03-12",
          "2021-03-13",
          "2021-03-14",
          "2021-03-15",
          "2021-03-16",
          "2021-03-17",
          "2021-03-18",
          "2021-03-19",
          "2021-03-20",
          "2021-03-21",
          "2021-03-22",
          "2021-03-23",
          "2021-03-24",
          "2021-03-25",
          "2021-03-26",
          "2021-03-27",
          "2021-03-28",
          "2021-03-29",
          "2021-03-30",
          "2021-03-31"
         ],
         "legendgroup": "POSITIVE",
         "line": {
          "color": "#11CC11",
          "dash": "solid"
         },
         "marker": {
          "symbol": "circle"
         },
         "mode": "lines+markers+text",
         "name": "POSITIVE",
         "orientation": "v",
         "showlegend": true,
         "text": [
          204,
          141,
          68,
          25,
          20,
          12,
          14,
          20,
          28,
          18,
          12,
          14,
          12,
          12,
          32,
          29,
          14,
          13,
          10,
          9,
          5,
          19,
          36,
          20,
          16,
          6,
          6,
          6,
          17,
          16,
          11,
          10,
          14,
          6,
          5,
          23,
          15,
          8,
          9,
          10,
          6,
          9,
          23,
          25,
          14,
          9,
          6,
          12,
          5,
          101,
          77,
          36,
          21,
          12,
          14,
          12,
          13,
          13,
          5,
          4,
          9,
          7,
          11,
          12,
          14,
          6,
          6,
          1,
          5,
          7,
          7,
          7,
          8,
          6,
          3,
          6
         ],
         "type": "scatter",
         "x": [
          "2021-01-15",
          "2021-01-16",
          "2021-01-17",
          "2021-01-18",
          "2021-01-19",
          "2021-01-20",
          "2021-01-21",
          "2021-01-22",
          "2021-01-23",
          "2021-01-24",
          "2021-01-25",
          "2021-01-26",
          "2021-01-27",
          "2021-01-28",
          "2021-01-29",
          "2021-01-30",
          "2021-01-31",
          "2021-02-01",
          "2021-02-02",
          "2021-02-03",
          "2021-02-04",
          "2021-02-05",
          "2021-02-06",
          "2021-02-07",
          "2021-02-08",
          "2021-02-09",
          "2021-02-10",
          "2021-02-11",
          "2021-02-12",
          "2021-02-13",
          "2021-02-14",
          "2021-02-15",
          "2021-02-16",
          "2021-02-17",
          "2021-02-18",
          "2021-02-19",
          "2021-02-20",
          "2021-02-21",
          "2021-02-22",
          "2021-02-23",
          "2021-02-24",
          "2021-02-25",
          "2021-02-26",
          "2021-02-27",
          "2021-02-28",
          "2021-03-01",
          "2021-03-02",
          "2021-03-03",
          "2021-03-04",
          "2021-03-05",
          "2021-03-06",
          "2021-03-07",
          "2021-03-08",
          "2021-03-09",
          "2021-03-10",
          "2021-03-11",
          "2021-03-12",
          "2021-03-13",
          "2021-03-14",
          "2021-03-15",
          "2021-03-16",
          "2021-03-17",
          "2021-03-18",
          "2021-03-19",
          "2021-03-20",
          "2021-03-21",
          "2021-03-22",
          "2021-03-23",
          "2021-03-24",
          "2021-03-25",
          "2021-03-26",
          "2021-03-27",
          "2021-03-28",
          "2021-03-29",
          "2021-03-30",
          "2021-03-31"
         ],
         "xaxis": "x",
         "y": [
          204,
          141,
          68,
          25,
          20,
          12,
          14,
          20,
          28,
          18,
          12,
          14,
          12,
          12,
          32,
          29,
          14,
          13,
          10,
          9,
          5,
          19,
          36,
          20,
          16,
          6,
          6,
          6,
          17,
          16,
          11,
          10,
          14,
          6,
          5,
          23,
          15,
          8,
          9,
          10,
          6,
          9,
          23,
          25,
          14,
          9,
          6,
          12,
          5,
          101,
          77,
          36,
          21,
          12,
          14,
          12,
          13,
          13,
          5,
          4,
          9,
          7,
          11,
          12,
          14,
          6,
          6,
          1,
          5,
          7,
          7,
          7,
          8,
          6,
          3,
          6
         ],
         "yaxis": "y"
        },
        {
         "customdata": [
          [
           "NEGATIVE"
          ],
          [
           "NEGATIVE"
          ],
          [
           "NEGATIVE"
          ],
          [
           "NEGATIVE"
          ],
          [
           "NEGATIVE"
          ],
          [
           "NEGATIVE"
          ],
          [
           "NEGATIVE"
          ],
          [
           "NEGATIVE"
          ],
          [
           "NEGATIVE"
          ],
          [
           "NEGATIVE"
          ],
          [
           "NEGATIVE"
          ],
          [
           "NEGATIVE"
          ],
          [
           "NEGATIVE"
          ],
          [
           "NEGATIVE"
          ],
          [
           "NEGATIVE"
          ],
          [
           "NEGATIVE"
          ],
          [
           "NEGATIVE"
          ],
          [
           "NEGATIVE"
          ],
          [
           "NEGATIVE"
          ],
          [
           "NEGATIVE"
          ],
          [
           "NEGATIVE"
          ],
          [
           "NEGATIVE"
          ],
          [
           "NEGATIVE"
          ],
          [
           "NEGATIVE"
          ],
          [
           "NEGATIVE"
          ],
          [
           "NEGATIVE"
          ],
          [
           "NEGATIVE"
          ],
          [
           "NEGATIVE"
          ],
          [
           "NEGATIVE"
          ],
          [
           "NEGATIVE"
          ],
          [
           "NEGATIVE"
          ],
          [
           "NEGATIVE"
          ],
          [
           "NEGATIVE"
          ],
          [
           "NEGATIVE"
          ],
          [
           "NEGATIVE"
          ],
          [
           "NEGATIVE"
          ],
          [
           "NEGATIVE"
          ],
          [
           "NEGATIVE"
          ],
          [
           "NEGATIVE"
          ],
          [
           "NEGATIVE"
          ],
          [
           "NEGATIVE"
          ],
          [
           "NEGATIVE"
          ],
          [
           "NEGATIVE"
          ],
          [
           "NEGATIVE"
          ],
          [
           "NEGATIVE"
          ],
          [
           "NEGATIVE"
          ],
          [
           "NEGATIVE"
          ],
          [
           "NEGATIVE"
          ],
          [
           "NEGATIVE"
          ],
          [
           "NEGATIVE"
          ],
          [
           "NEGATIVE"
          ],
          [
           "NEGATIVE"
          ],
          [
           "NEGATIVE"
          ],
          [
           "NEGATIVE"
          ],
          [
           "NEGATIVE"
          ],
          [
           "NEGATIVE"
          ],
          [
           "NEGATIVE"
          ],
          [
           "NEGATIVE"
          ],
          [
           "NEGATIVE"
          ],
          [
           "NEGATIVE"
          ],
          [
           "NEGATIVE"
          ],
          [
           "NEGATIVE"
          ],
          [
           "NEGATIVE"
          ],
          [
           "NEGATIVE"
          ],
          [
           "NEGATIVE"
          ],
          [
           "NEGATIVE"
          ],
          [
           "NEGATIVE"
          ],
          [
           "NEGATIVE"
          ],
          [
           "NEGATIVE"
          ],
          [
           "NEGATIVE"
          ],
          [
           "NEGATIVE"
          ],
          [
           "NEGATIVE"
          ],
          [
           "NEGATIVE"
          ]
         ],
         "hovertemplate": "<b>%{hovertext}</b><br><br>sentiment=%{customdata[0]}<br>date=%{x}<br>reviewcount=%{text}<extra></extra>",
         "hovertext": [
          "2021-01-15",
          "2021-01-16",
          "2021-01-17",
          "2021-01-18",
          "2021-01-19",
          "2021-01-20",
          "2021-01-21",
          "2021-01-22",
          "2021-01-23",
          "2021-01-24",
          "2021-01-25",
          "2021-01-26",
          "2021-01-27",
          "2021-01-28",
          "2021-01-29",
          "2021-01-30",
          "2021-01-31",
          "2021-02-01",
          "2021-02-02",
          "2021-02-03",
          "2021-02-04",
          "2021-02-05",
          "2021-02-06",
          "2021-02-07",
          "2021-02-08",
          "2021-02-09",
          "2021-02-10",
          "2021-02-12",
          "2021-02-13",
          "2021-02-14",
          "2021-02-15",
          "2021-02-16",
          "2021-02-17",
          "2021-02-18",
          "2021-02-19",
          "2021-02-20",
          "2021-02-21",
          "2021-02-22",
          "2021-02-23",
          "2021-02-24",
          "2021-02-25",
          "2021-02-26",
          "2021-02-27",
          "2021-02-28",
          "2021-03-01",
          "2021-03-02",
          "2021-03-03",
          "2021-03-04",
          "2021-03-05",
          "2021-03-06",
          "2021-03-07",
          "2021-03-08",
          "2021-03-09",
          "2021-03-10",
          "2021-03-11",
          "2021-03-12",
          "2021-03-13",
          "2021-03-14",
          "2021-03-15",
          "2021-03-16",
          "2021-03-17",
          "2021-03-18",
          "2021-03-19",
          "2021-03-20",
          "2021-03-21",
          "2021-03-22",
          "2021-03-23",
          "2021-03-24",
          "2021-03-25",
          "2021-03-27",
          "2021-03-28",
          "2021-03-29",
          "2021-03-30"
         ],
         "legendgroup": "NEGATIVE",
         "line": {
          "color": "#CC1111",
          "dash": "solid"
         },
         "marker": {
          "symbol": "circle"
         },
         "mode": "lines+markers+text",
         "name": "NEGATIVE",
         "orientation": "v",
         "showlegend": true,
         "text": [
          94,
          69,
          39,
          14,
          9,
          7,
          10,
          18,
          16,
          14,
          8,
          4,
          4,
          1,
          8,
          9,
          5,
          3,
          2,
          4,
          1,
          8,
          5,
          6,
          6,
          6,
          2,
          2,
          4,
          2,
          1,
          1,
          5,
          1,
          12,
          5,
          5,
          2,
          1,
          1,
          1,
          3,
          2,
          3,
          2,
          2,
          2,
          3,
          23,
          12,
          14,
          5,
          4,
          3,
          1,
          6,
          5,
          1,
          2,
          1,
          7,
          4,
          5,
          4,
          3,
          2,
          2,
          2,
          1,
          1,
          4,
          2,
          1
         ],
         "type": "scatter",
         "x": [
          "2021-01-15",
          "2021-01-16",
          "2021-01-17",
          "2021-01-18",
          "2021-01-19",
          "2021-01-20",
          "2021-01-21",
          "2021-01-22",
          "2021-01-23",
          "2021-01-24",
          "2021-01-25",
          "2021-01-26",
          "2021-01-27",
          "2021-01-28",
          "2021-01-29",
          "2021-01-30",
          "2021-01-31",
          "2021-02-01",
          "2021-02-02",
          "2021-02-03",
          "2021-02-04",
          "2021-02-05",
          "2021-02-06",
          "2021-02-07",
          "2021-02-08",
          "2021-02-09",
          "2021-02-10",
          "2021-02-12",
          "2021-02-13",
          "2021-02-14",
          "2021-02-15",
          "2021-02-16",
          "2021-02-17",
          "2021-02-18",
          "2021-02-19",
          "2021-02-20",
          "2021-02-21",
          "2021-02-22",
          "2021-02-23",
          "2021-02-24",
          "2021-02-25",
          "2021-02-26",
          "2021-02-27",
          "2021-02-28",
          "2021-03-01",
          "2021-03-02",
          "2021-03-03",
          "2021-03-04",
          "2021-03-05",
          "2021-03-06",
          "2021-03-07",
          "2021-03-08",
          "2021-03-09",
          "2021-03-10",
          "2021-03-11",
          "2021-03-12",
          "2021-03-13",
          "2021-03-14",
          "2021-03-15",
          "2021-03-16",
          "2021-03-17",
          "2021-03-18",
          "2021-03-19",
          "2021-03-20",
          "2021-03-21",
          "2021-03-22",
          "2021-03-23",
          "2021-03-24",
          "2021-03-25",
          "2021-03-27",
          "2021-03-28",
          "2021-03-29",
          "2021-03-30"
         ],
         "xaxis": "x",
         "y": [
          94,
          69,
          39,
          14,
          9,
          7,
          10,
          18,
          16,
          14,
          8,
          4,
          4,
          1,
          8,
          9,
          5,
          3,
          2,
          4,
          1,
          8,
          5,
          6,
          6,
          6,
          2,
          2,
          4,
          2,
          1,
          1,
          5,
          1,
          12,
          5,
          5,
          2,
          1,
          1,
          1,
          3,
          2,
          3,
          2,
          2,
          2,
          3,
          23,
          12,
          14,
          5,
          4,
          3,
          1,
          6,
          5,
          1,
          2,
          1,
          7,
          4,
          5,
          4,
          3,
          2,
          2,
          2,
          1,
          1,
          4,
          2,
          1
         ],
         "yaxis": "y"
        }
       ],
       "layout": {
        "font": {
         "family": "Arial",
         "size": 20
        },
        "legend": {
         "title": {
          "text": "sentiment"
         },
         "tracegroupgap": 0
        },
        "template": {
         "data": {
          "bar": [
           {
            "error_x": {
             "color": "#2a3f5f"
            },
            "error_y": {
             "color": "#2a3f5f"
            },
            "marker": {
             "line": {
              "color": "#E5ECF6",
              "width": 0.5
             },
             "pattern": {
              "fillmode": "overlay",
              "size": 10,
              "solidity": 0.2
             }
            },
            "type": "bar"
           }
          ],
          "barpolar": [
           {
            "marker": {
             "line": {
              "color": "#E5ECF6",
              "width": 0.5
             },
             "pattern": {
              "fillmode": "overlay",
              "size": 10,
              "solidity": 0.2
             }
            },
            "type": "barpolar"
           }
          ],
          "carpet": [
           {
            "aaxis": {
             "endlinecolor": "#2a3f5f",
             "gridcolor": "white",
             "linecolor": "white",
             "minorgridcolor": "white",
             "startlinecolor": "#2a3f5f"
            },
            "baxis": {
             "endlinecolor": "#2a3f5f",
             "gridcolor": "white",
             "linecolor": "white",
             "minorgridcolor": "white",
             "startlinecolor": "#2a3f5f"
            },
            "type": "carpet"
           }
          ],
          "choropleth": [
           {
            "colorbar": {
             "outlinewidth": 0,
             "ticks": ""
            },
            "type": "choropleth"
           }
          ],
          "contour": [
           {
            "colorbar": {
             "outlinewidth": 0,
             "ticks": ""
            },
            "colorscale": [
             [
              0,
              "#0d0887"
             ],
             [
              0.1111111111111111,
              "#46039f"
             ],
             [
              0.2222222222222222,
              "#7201a8"
             ],
             [
              0.3333333333333333,
              "#9c179e"
             ],
             [
              0.4444444444444444,
              "#bd3786"
             ],
             [
              0.5555555555555556,
              "#d8576b"
             ],
             [
              0.6666666666666666,
              "#ed7953"
             ],
             [
              0.7777777777777778,
              "#fb9f3a"
             ],
             [
              0.8888888888888888,
              "#fdca26"
             ],
             [
              1,
              "#f0f921"
             ]
            ],
            "type": "contour"
           }
          ],
          "contourcarpet": [
           {
            "colorbar": {
             "outlinewidth": 0,
             "ticks": ""
            },
            "type": "contourcarpet"
           }
          ],
          "heatmap": [
           {
            "colorbar": {
             "outlinewidth": 0,
             "ticks": ""
            },
            "colorscale": [
             [
              0,
              "#0d0887"
             ],
             [
              0.1111111111111111,
              "#46039f"
             ],
             [
              0.2222222222222222,
              "#7201a8"
             ],
             [
              0.3333333333333333,
              "#9c179e"
             ],
             [
              0.4444444444444444,
              "#bd3786"
             ],
             [
              0.5555555555555556,
              "#d8576b"
             ],
             [
              0.6666666666666666,
              "#ed7953"
             ],
             [
              0.7777777777777778,
              "#fb9f3a"
             ],
             [
              0.8888888888888888,
              "#fdca26"
             ],
             [
              1,
              "#f0f921"
             ]
            ],
            "type": "heatmap"
           }
          ],
          "heatmapgl": [
           {
            "colorbar": {
             "outlinewidth": 0,
             "ticks": ""
            },
            "colorscale": [
             [
              0,
              "#0d0887"
             ],
             [
              0.1111111111111111,
              "#46039f"
             ],
             [
              0.2222222222222222,
              "#7201a8"
             ],
             [
              0.3333333333333333,
              "#9c179e"
             ],
             [
              0.4444444444444444,
              "#bd3786"
             ],
             [
              0.5555555555555556,
              "#d8576b"
             ],
             [
              0.6666666666666666,
              "#ed7953"
             ],
             [
              0.7777777777777778,
              "#fb9f3a"
             ],
             [
              0.8888888888888888,
              "#fdca26"
             ],
             [
              1,
              "#f0f921"
             ]
            ],
            "type": "heatmapgl"
           }
          ],
          "histogram": [
           {
            "marker": {
             "pattern": {
              "fillmode": "overlay",
              "size": 10,
              "solidity": 0.2
             }
            },
            "type": "histogram"
           }
          ],
          "histogram2d": [
           {
            "colorbar": {
             "outlinewidth": 0,
             "ticks": ""
            },
            "colorscale": [
             [
              0,
              "#0d0887"
             ],
             [
              0.1111111111111111,
              "#46039f"
             ],
             [
              0.2222222222222222,
              "#7201a8"
             ],
             [
              0.3333333333333333,
              "#9c179e"
             ],
             [
              0.4444444444444444,
              "#bd3786"
             ],
             [
              0.5555555555555556,
              "#d8576b"
             ],
             [
              0.6666666666666666,
              "#ed7953"
             ],
             [
              0.7777777777777778,
              "#fb9f3a"
             ],
             [
              0.8888888888888888,
              "#fdca26"
             ],
             [
              1,
              "#f0f921"
             ]
            ],
            "type": "histogram2d"
           }
          ],
          "histogram2dcontour": [
           {
            "colorbar": {
             "outlinewidth": 0,
             "ticks": ""
            },
            "colorscale": [
             [
              0,
              "#0d0887"
             ],
             [
              0.1111111111111111,
              "#46039f"
             ],
             [
              0.2222222222222222,
              "#7201a8"
             ],
             [
              0.3333333333333333,
              "#9c179e"
             ],
             [
              0.4444444444444444,
              "#bd3786"
             ],
             [
              0.5555555555555556,
              "#d8576b"
             ],
             [
              0.6666666666666666,
              "#ed7953"
             ],
             [
              0.7777777777777778,
              "#fb9f3a"
             ],
             [
              0.8888888888888888,
              "#fdca26"
             ],
             [
              1,
              "#f0f921"
             ]
            ],
            "type": "histogram2dcontour"
           }
          ],
          "mesh3d": [
           {
            "colorbar": {
             "outlinewidth": 0,
             "ticks": ""
            },
            "type": "mesh3d"
           }
          ],
          "parcoords": [
           {
            "line": {
             "colorbar": {
              "outlinewidth": 0,
              "ticks": ""
             }
            },
            "type": "parcoords"
           }
          ],
          "pie": [
           {
            "automargin": true,
            "type": "pie"
           }
          ],
          "scatter": [
           {
            "fillpattern": {
             "fillmode": "overlay",
             "size": 10,
             "solidity": 0.2
            },
            "type": "scatter"
           }
          ],
          "scatter3d": [
           {
            "line": {
             "colorbar": {
              "outlinewidth": 0,
              "ticks": ""
             }
            },
            "marker": {
             "colorbar": {
              "outlinewidth": 0,
              "ticks": ""
             }
            },
            "type": "scatter3d"
           }
          ],
          "scattercarpet": [
           {
            "marker": {
             "colorbar": {
              "outlinewidth": 0,
              "ticks": ""
             }
            },
            "type": "scattercarpet"
           }
          ],
          "scattergeo": [
           {
            "marker": {
             "colorbar": {
              "outlinewidth": 0,
              "ticks": ""
             }
            },
            "type": "scattergeo"
           }
          ],
          "scattergl": [
           {
            "marker": {
             "colorbar": {
              "outlinewidth": 0,
              "ticks": ""
             }
            },
            "type": "scattergl"
           }
          ],
          "scattermapbox": [
           {
            "marker": {
             "colorbar": {
              "outlinewidth": 0,
              "ticks": ""
             }
            },
            "type": "scattermapbox"
           }
          ],
          "scatterpolar": [
           {
            "marker": {
             "colorbar": {
              "outlinewidth": 0,
              "ticks": ""
             }
            },
            "type": "scatterpolar"
           }
          ],
          "scatterpolargl": [
           {
            "marker": {
             "colorbar": {
              "outlinewidth": 0,
              "ticks": ""
             }
            },
            "type": "scatterpolargl"
           }
          ],
          "scatterternary": [
           {
            "marker": {
             "colorbar": {
              "outlinewidth": 0,
              "ticks": ""
             }
            },
            "type": "scatterternary"
           }
          ],
          "surface": [
           {
            "colorbar": {
             "outlinewidth": 0,
             "ticks": ""
            },
            "colorscale": [
             [
              0,
              "#0d0887"
             ],
             [
              0.1111111111111111,
              "#46039f"
             ],
             [
              0.2222222222222222,
              "#7201a8"
             ],
             [
              0.3333333333333333,
              "#9c179e"
             ],
             [
              0.4444444444444444,
              "#bd3786"
             ],
             [
              0.5555555555555556,
              "#d8576b"
             ],
             [
              0.6666666666666666,
              "#ed7953"
             ],
             [
              0.7777777777777778,
              "#fb9f3a"
             ],
             [
              0.8888888888888888,
              "#fdca26"
             ],
             [
              1,
              "#f0f921"
             ]
            ],
            "type": "surface"
           }
          ],
          "table": [
           {
            "cells": {
             "fill": {
              "color": "#EBF0F8"
             },
             "line": {
              "color": "white"
             }
            },
            "header": {
             "fill": {
              "color": "#C8D4E3"
             },
             "line": {
              "color": "white"
             }
            },
            "type": "table"
           }
          ]
         },
         "layout": {
          "annotationdefaults": {
           "arrowcolor": "#2a3f5f",
           "arrowhead": 0,
           "arrowwidth": 1
          },
          "autotypenumbers": "strict",
          "coloraxis": {
           "colorbar": {
            "outlinewidth": 0,
            "ticks": ""
           }
          },
          "colorscale": {
           "diverging": [
            [
             0,
             "#8e0152"
            ],
            [
             0.1,
             "#c51b7d"
            ],
            [
             0.2,
             "#de77ae"
            ],
            [
             0.3,
             "#f1b6da"
            ],
            [
             0.4,
             "#fde0ef"
            ],
            [
             0.5,
             "#f7f7f7"
            ],
            [
             0.6,
             "#e6f5d0"
            ],
            [
             0.7,
             "#b8e186"
            ],
            [
             0.8,
             "#7fbc41"
            ],
            [
             0.9,
             "#4d9221"
            ],
            [
             1,
             "#276419"
            ]
           ],
           "sequential": [
            [
             0,
             "#0d0887"
            ],
            [
             0.1111111111111111,
             "#46039f"
            ],
            [
             0.2222222222222222,
             "#7201a8"
            ],
            [
             0.3333333333333333,
             "#9c179e"
            ],
            [
             0.4444444444444444,
             "#bd3786"
            ],
            [
             0.5555555555555556,
             "#d8576b"
            ],
            [
             0.6666666666666666,
             "#ed7953"
            ],
            [
             0.7777777777777778,
             "#fb9f3a"
            ],
            [
             0.8888888888888888,
             "#fdca26"
            ],
            [
             1,
             "#f0f921"
            ]
           ],
           "sequentialminus": [
            [
             0,
             "#0d0887"
            ],
            [
             0.1111111111111111,
             "#46039f"
            ],
            [
             0.2222222222222222,
             "#7201a8"
            ],
            [
             0.3333333333333333,
             "#9c179e"
            ],
            [
             0.4444444444444444,
             "#bd3786"
            ],
            [
             0.5555555555555556,
             "#d8576b"
            ],
            [
             0.6666666666666666,
             "#ed7953"
            ],
            [
             0.7777777777777778,
             "#fb9f3a"
            ],
            [
             0.8888888888888888,
             "#fdca26"
            ],
            [
             1,
             "#f0f921"
            ]
           ]
          },
          "colorway": [
           "#636efa",
           "#EF553B",
           "#00cc96",
           "#ab63fa",
           "#FFA15A",
           "#19d3f3",
           "#FF6692",
           "#B6E880",
           "#FF97FF",
           "#FECB52"
          ],
          "font": {
           "color": "#2a3f5f"
          },
          "geo": {
           "bgcolor": "white",
           "lakecolor": "white",
           "landcolor": "#E5ECF6",
           "showlakes": true,
           "showland": true,
           "subunitcolor": "white"
          },
          "hoverlabel": {
           "align": "left"
          },
          "hovermode": "closest",
          "mapbox": {
           "style": "light"
          },
          "paper_bgcolor": "white",
          "plot_bgcolor": "#E5ECF6",
          "polar": {
           "angularaxis": {
            "gridcolor": "white",
            "linecolor": "white",
            "ticks": ""
           },
           "bgcolor": "#E5ECF6",
           "radialaxis": {
            "gridcolor": "white",
            "linecolor": "white",
            "ticks": ""
           }
          },
          "scene": {
           "xaxis": {
            "backgroundcolor": "#E5ECF6",
            "gridcolor": "white",
            "gridwidth": 2,
            "linecolor": "white",
            "showbackground": true,
            "ticks": "",
            "zerolinecolor": "white"
           },
           "yaxis": {
            "backgroundcolor": "#E5ECF6",
            "gridcolor": "white",
            "gridwidth": 2,
            "linecolor": "white",
            "showbackground": true,
            "ticks": "",
            "zerolinecolor": "white"
           },
           "zaxis": {
            "backgroundcolor": "#E5ECF6",
            "gridcolor": "white",
            "gridwidth": 2,
            "linecolor": "white",
            "showbackground": true,
            "ticks": "",
            "zerolinecolor": "white"
           }
          },
          "shapedefaults": {
           "line": {
            "color": "#2a3f5f"
           }
          },
          "ternary": {
           "aaxis": {
            "gridcolor": "white",
            "linecolor": "white",
            "ticks": ""
           },
           "baxis": {
            "gridcolor": "white",
            "linecolor": "white",
            "ticks": ""
           },
           "bgcolor": "#E5ECF6",
           "caxis": {
            "gridcolor": "white",
            "linecolor": "white",
            "ticks": ""
           }
          },
          "title": {
           "x": 0.05
          },
          "xaxis": {
           "automargin": true,
           "gridcolor": "white",
           "linecolor": "white",
           "ticks": "",
           "title": {
            "standoff": 15
           },
           "zerolinecolor": "white",
           "zerolinewidth": 2
          },
          "yaxis": {
           "automargin": true,
           "gridcolor": "white",
           "linecolor": "white",
           "ticks": "",
           "title": {
            "standoff": 15
           },
           "zerolinecolor": "white",
           "zerolinewidth": 2
          }
         }
        },
        "title": {
         "font": {
          "color": "rebeccapurple",
          "size": 28
         },
         "text": "Progress of WandaVision reviews during release (Jan 2021 - Mar 2021)"
        },
        "xaxis": {
         "anchor": "y",
         "domain": [
          0,
          1
         ],
         "title": {
          "text": "date"
         }
        },
        "yaxis": {
         "anchor": "x",
         "domain": [
          0,
          1
         ],
         "title": {
          "text": "Frequency of Reviews"
         },
         "type": "log"
        }
       }
      }
     },
     "metadata": {},
     "output_type": "display_data"
    }
   ],
   "source": [
    "IDMB_datesorted = IDMB_cleaned.sort_values(by='date')\n",
    "IDMB_datesorted_032021 = IDMB_datesorted.loc[IDMB_datesorted.date < date(2021, 4, 1)]\n",
    "IDMB_datesorted_032021 = pd.DataFrame(IDMB_datesorted_032021.groupby(['date', 'sentiment']).count()['ratings']).reset_index()\n",
    "IDMB_datesorted_032021.columns = ['date', 'sentiment', 'reviewcount']\n",
    "fig = px.line(IDMB_datesorted_032021, x='date', y ='reviewcount',  hover_name='date', hover_data=['sentiment', 'reviewcount'], color_discrete_sequence=['#11CC11', '#CC1111'],\n",
    "                 color='sentiment', category_orders={'sentiment': ['POSITIVE', 'NEGATIVE']}, text='reviewcount', log_y=True,\n",
    "                 title='Progress of WandaVision reviews during release (Jan 2021 - Mar 2021)')\n",
    "fig.update_layout(\n",
    "    font_family=\"Arial\",\n",
    "    font_size=20,\n",
    "    yaxis_title='Frequency of Reviews',\n",
    "    title_font_size=28,\n",
    "    title_font_color=\"rebeccapurple\"\n",
    ")\n",
    "fig.show()"
   ]
  },
  {
   "cell_type": "markdown",
   "metadata": {},
   "source": [
    "Looking at the data when the show was being aired,\n",
    "\n",
    "1. We observe that positive reviews dominated most of the time and the gap between 2 groups fluctuated often.  \n",
    "2. We observe a strong rise in the reviews on 5th March as that's when the finale was aired and therefore, fans provided their review of what they thought of the episodes and series overall.  \n",
    "\n",
    "Throughtout the release of the episodes, fans majorly enjoyed the show."
   ]
  },
  {
   "attachments": {
    "image-2.png": {
     "image/png": "[encoded data removed]"
    }
   },
   "cell_type": "markdown",
   "metadata": {},
   "source": [
    "## Summary and Conclusion  \n",
    "\n",
    "For StackUp's Sentiment Analysis Bounty, the show WandaVision (the very first TV show in the MCU franchise on Disney+) was picked to have its reviews analyzed. To get the ball running, the HTML document of the review had to be studied to get an idea of how to extract maximum reviews because, by default, reviews would stop being extracted before the Load More button. Using Selenium's webdriver, it was possible to click on Load More button automatically to get \"all\" the necessary information. The below code shows how the code helped in unfolding the whole webpage:\n",
    "```py\n",
    "try:\n",
    "    # Wait for the next \"Load More\" button to become clickable\n",
    "    load_more_button = WebDriverWait(driver, time_wait).until(\n",
    "        EC.element_to_be_clickable((By.CLASS_NAME, 'ipl-load-more__button'))\n",
    "    )\n",
    "    time_wait += 5\n",
    "    time.sleep(10)\n",
    "    # Click the \"Load More\" button repeatedly until it's no longer visible\n",
    "    while load_more_button.is_displayed():\n",
    "        load_more_button.click()\n",
    "```  \n",
    "\n",
    "After necessary information (dates of reviews, ratings, reviews, headlines of reviews) was collected, the data had to be cleaned to ensure data integrity was maintained. For example, the list of headlines had space as an extra headline which had to be removed so that all sets had the same length. Null values had to be either removed or filled in with some value. Empty reviews where ratings were 8 or above were replaced with highly positive feedback about the show to make up for it. Emojis had to be removed as they were tampering with the sentiment classification.  \n",
    "\n",
    "The package `texthero` was used to prepare the text for analysis, and `nltk` was used to automatically analyze the text and derive the sentiment behind the text. As the show is around magic, some words such as 'creepy' and 'mad' had to be given a different score so the sentiment analyzer \"Vader\" didn't misinterpret the review. Some other words were given different scores to ensure reviews were classified as maximally accurate as possible.  \n",
    "\n",
    "!['Dataframe after cleaning and processing](attachment:image-2.png)\n",
    "\n",
    "After the data was ready, the reviews were visualized with `texthero` and`plotly` based on what words were frequently used to describe the show or how the ratings and sentiments progressed over the release of the show.  \n",
    "\n",
    "Overall, it was found that the MCU fans enjoyed the show WandaVision and can't wait for what the future of MCU holds for them."
   ]
  }
 ],
 "metadata": {
  "kernelspec": {
   "display_name": "base",
   "language": "python",
   "name": "python3"
  },
  "language_info": {
   "codemirror_mode": {
    "name": "ipython",
    "version": 3
   },
   "file_extension": ".py",
   "mimetype": "text/x-python",
   "name": "python",
   "nbconvert_exporter": "python",
   "pygments_lexer": "ipython3",
   "version": "3.9.18"
  }
 },
 "nbformat": 4,
 "nbformat_minor": 2
}
